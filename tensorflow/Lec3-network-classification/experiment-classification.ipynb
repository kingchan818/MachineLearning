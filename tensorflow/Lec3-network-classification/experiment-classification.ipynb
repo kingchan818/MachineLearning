{
 "cells": [
  {
   "cell_type": "code",
   "execution_count": 93,
   "metadata": {},
   "outputs": [],
   "source": [
    "import pandas as pd\n",
    "import matplotlib.pyplot as plt\n",
    "import numpy as np\n",
    "import seaborn as sns\n",
    "import tensorflow as tf\n",
    "from tensorflow.keras.datasets import fashion_mnist"
   ]
  },
  {
   "cell_type": "markdown",
   "metadata": {},
   "source": [
    "# Familiar with data"
   ]
  },
  {
   "cell_type": "code",
   "execution_count": 94,
   "metadata": {},
   "outputs": [],
   "source": [
    "# preparing data for cook 👨🏻‍🍳\n",
    "(train_data, train_labels), (test_data,test_labels) = fashion_mnist.load_data()"
   ]
  },
  {
   "cell_type": "code",
   "execution_count": 95,
   "metadata": {},
   "outputs": [
    {
     "data": {
      "text/plain": [
       "((60000, 28, 28), (60000,))"
      ]
     },
     "execution_count": 95,
     "metadata": {},
     "output_type": "execute_result"
    }
   ],
   "source": [
    "train_data.shape, train_labels.shape"
   ]
  },
  {
   "cell_type": "code",
   "execution_count": 96,
   "metadata": {},
   "outputs": [
    {
     "data": {
      "text/plain": [
       "array([9, 0, 0, ..., 3, 0, 5], dtype=uint8)"
      ]
     },
     "execution_count": 96,
     "metadata": {},
     "output_type": "execute_result"
    }
   ],
   "source": [
    "train_labels"
   ]
  },
  {
   "cell_type": "code",
   "execution_count": 97,
   "metadata": {},
   "outputs": [
    {
     "name": "stdout",
     "output_type": "stream",
     "text": [
      "9\n",
      "(28, 28)\n"
     ]
    }
   ],
   "source": [
    "print(train_labels[0])\n",
    "print(train_data[0].shape)"
   ]
  },
  {
   "cell_type": "code",
   "execution_count": 98,
   "metadata": {},
   "outputs": [
    {
     "data": {
      "text/plain": [
       "<matplotlib.image.AxesImage at 0x29a172910>"
      ]
     },
     "execution_count": 98,
     "metadata": {},
     "output_type": "execute_result"
    },
    {
     "data": {
      "image/png": "[encoded data removed]",
      "text/plain": [
       "<Figure size 432x288 with 1 Axes>"
      ]
     },
     "metadata": {
      "needs_background": "light"
     },
     "output_type": "display_data"
    }
   ],
   "source": [
    "plt.imshow(train_data[0])"
   ]
  },
  {
   "cell_type": "code",
   "execution_count": 99,
   "metadata": {},
   "outputs": [
    {
     "name": "stdout",
     "output_type": "stream",
     "text": [
      "0\n"
     ]
    },
    {
     "data": {
      "text/plain": [
       "<matplotlib.image.AxesImage at 0x29104f520>"
      ]
     },
     "execution_count": 99,
     "metadata": {},
     "output_type": "execute_result"
    },
    {
     "data": {
      "image/png": "[encoded data removed]",
      "text/plain": [
       "<Figure size 432x288 with 1 Axes>"
      ]
     },
     "metadata": {
      "needs_background": "light"
     },
     "output_type": "display_data"
    }
   ],
   "source": [
    "print(train_labels[1])\n",
    "plt.imshow(train_data[1])"
   ]
  },
  {
   "cell_type": "code",
   "execution_count": 100,
   "metadata": {},
   "outputs": [],
   "source": [
    "classes = [\"T-shirt/top\",\"Trouser\",\"Pullover\",\"Dress\",\"Coat\",\"Sandal\",\"Shirt\",\"Sneaker\",\"Bag\",\"Ankle boot\"]\n",
    "\n",
    "def show_indexing(index):\n",
    "    class_index = train_labels[index]\n",
    "    print(class_index)\n",
    "    label = classes[class_index]\n",
    "    plt.imshow(train_data[class_index])\n",
    "    plt.title(f\"{label}\")"
   ]
  },
  {
   "cell_type": "code",
   "execution_count": 101,
   "metadata": {},
   "outputs": [
    {
     "name": "stdout",
     "output_type": "stream",
     "text": [
      "7\n"
     ]
    },
    {
     "data": {
      "image/png": "[encoded data removed]",
      "text/plain": [
       "<Figure size 432x288 with 1 Axes>"
      ]
     },
     "metadata": {
      "needs_background": "light"
     },
     "output_type": "display_data"
    }
   ],
   "source": [
    "show_indexing(52)"
   ]
  },
  {
   "cell_type": "markdown",
   "metadata": {},
   "source": [
    "# Building up the model"
   ]
  },
  {
   "cell_type": "code",
   "execution_count": 120,
   "metadata": {},
   "outputs": [
    {
     "name": "stdout",
     "output_type": "stream",
     "text": [
      "Epoch 1/25\n",
      "  23/1875 [..............................] - ETA: 8s - loss: 8.8560 - accuracy: 0.1359  "
     ]
    },
    {
     "name": "stderr",
     "output_type": "stream",
     "text": [
      "2022-07-06 21:01:45.664229: I tensorflow/core/grappler/optimizers/custom_graph_optimizer_registry.cc:113] Plugin optimizer for device_type GPU is enabled.\n"
     ]
    },
    {
     "name": "stdout",
     "output_type": "stream",
     "text": [
      "1869/1875 [============================>.] - ETA: 0s - loss: 2.1783 - accuracy: 0.1624"
     ]
    },
    {
     "name": "stderr",
     "output_type": "stream",
     "text": [
      "2022-07-06 21:01:54.381848: I tensorflow/core/grappler/optimizers/custom_graph_optimizer_registry.cc:113] Plugin optimizer for device_type GPU is enabled.\n"
     ]
    },
    {
     "name": "stdout",
     "output_type": "stream",
     "text": [
      "1875/1875 [==============================] - 10s 5ms/step - loss: 2.1769 - accuracy: 0.1626 - val_loss: 1.8039 - val_accuracy: 0.2066\n",
      "Epoch 2/25\n",
      "1875/1875 [==============================] - 9s 5ms/step - loss: 1.7187 - accuracy: 0.2407 - val_loss: 1.6656 - val_accuracy: 0.2878\n",
      "Epoch 3/25\n",
      "1875/1875 [==============================] - 9s 5ms/step - loss: 1.6392 - accuracy: 0.2819 - val_loss: 1.6069 - val_accuracy: 0.2839\n",
      "Epoch 4/25\n",
      "1875/1875 [==============================] - 9s 5ms/step - loss: 1.6041 - accuracy: 0.2910 - val_loss: 1.5991 - val_accuracy: 0.2972\n",
      "Epoch 5/25\n",
      "1875/1875 [==============================] - 10s 5ms/step - loss: 1.5955 - accuracy: 0.2979 - val_loss: 1.5903 - val_accuracy: 0.3190\n",
      "Epoch 6/25\n",
      "1875/1875 [==============================] - 9s 5ms/step - loss: 1.5816 - accuracy: 0.3088 - val_loss: 1.5638 - val_accuracy: 0.3024\n",
      "Epoch 7/25\n",
      "1875/1875 [==============================] - 9s 5ms/step - loss: 1.5681 - accuracy: 0.3200 - val_loss: 1.5638 - val_accuracy: 0.3248\n",
      "Epoch 8/25\n",
      "1875/1875 [==============================] - 10s 5ms/step - loss: 1.5688 - accuracy: 0.3178 - val_loss: 1.5611 - val_accuracy: 0.3255\n",
      "Epoch 9/25\n",
      "1875/1875 [==============================] - 9s 5ms/step - loss: 1.5356 - accuracy: 0.3408 - val_loss: 1.5266 - val_accuracy: 0.3493\n",
      "Epoch 10/25\n",
      "1875/1875 [==============================] - 9s 5ms/step - loss: 1.5204 - accuracy: 0.3566 - val_loss: 1.4968 - val_accuracy: 0.3777\n",
      "Epoch 11/25\n",
      "1875/1875 [==============================] - 10s 5ms/step - loss: 1.4420 - accuracy: 0.3994 - val_loss: 1.3426 - val_accuracy: 0.4373\n",
      "Epoch 12/25\n",
      "1875/1875 [==============================] - 10s 5ms/step - loss: 1.3088 - accuracy: 0.4473 - val_loss: 1.3232 - val_accuracy: 0.4377\n",
      "Epoch 13/25\n",
      "1875/1875 [==============================] - 9s 5ms/step - loss: 1.2670 - accuracy: 0.4602 - val_loss: 1.2645 - val_accuracy: 0.4724\n",
      "Epoch 14/25\n",
      "1875/1875 [==============================] - 9s 5ms/step - loss: 1.1831 - accuracy: 0.5049 - val_loss: 1.1356 - val_accuracy: 0.5327\n",
      "Epoch 15/25\n",
      "1875/1875 [==============================] - 9s 5ms/step - loss: 1.0920 - accuracy: 0.5382 - val_loss: 1.0618 - val_accuracy: 0.5555\n",
      "Epoch 16/25\n",
      "1875/1875 [==============================] - 9s 5ms/step - loss: 1.0513 - accuracy: 0.5491 - val_loss: 1.0424 - val_accuracy: 0.5719\n",
      "Epoch 17/25\n",
      "1875/1875 [==============================] - 10s 5ms/step - loss: 1.0341 - accuracy: 0.5618 - val_loss: 1.0410 - val_accuracy: 0.5700\n",
      "Epoch 18/25\n",
      "1875/1875 [==============================] - 9s 5ms/step - loss: 1.0161 - accuracy: 0.5737 - val_loss: 1.0044 - val_accuracy: 0.5983\n",
      "Epoch 19/25\n",
      "1875/1875 [==============================] - 9s 5ms/step - loss: 1.0053 - accuracy: 0.5871 - val_loss: 1.0264 - val_accuracy: 0.5460\n",
      "Epoch 20/25\n",
      "1875/1875 [==============================] - 9s 5ms/step - loss: 0.9843 - accuracy: 0.5972 - val_loss: 1.0077 - val_accuracy: 0.5952\n",
      "Epoch 21/25\n",
      "1875/1875 [==============================] - 9s 5ms/step - loss: 0.9784 - accuracy: 0.6036 - val_loss: 0.9617 - val_accuracy: 0.6210\n",
      "Epoch 22/25\n",
      "1875/1875 [==============================] - 10s 5ms/step - loss: 0.9550 - accuracy: 0.6098 - val_loss: 0.9513 - val_accuracy: 0.6228\n",
      "Epoch 23/25\n",
      "1875/1875 [==============================] - 9s 5ms/step - loss: 0.9432 - accuracy: 0.6181 - val_loss: 0.9647 - val_accuracy: 0.6092\n",
      "Epoch 24/25\n",
      "1875/1875 [==============================] - 9s 5ms/step - loss: 0.9358 - accuracy: 0.6170 - val_loss: 0.9414 - val_accuracy: 0.6173\n",
      "Epoch 25/25\n",
      "1875/1875 [==============================] - 9s 5ms/step - loss: 0.9275 - accuracy: 0.6209 - val_loss: 0.9131 - val_accuracy: 0.6433\n"
     ]
    }
   ],
   "source": [
    "tf.random.set_seed(42)\n",
    "model1 = tf.keras.Sequential([\n",
    "    tf.keras.layers.Flatten(input_shape=(28,28)),\n",
    "    tf.keras.layers.Dense(4,activation='relu'),\n",
    "    tf.keras.layers.Dense(4,activation='relu'),\n",
    "    tf.keras.layers.Dense(10,activation='softmax')\n",
    "])\n",
    "\n",
    "model1.compile(loss=tf.keras.losses.SparseCategoricalCrossentropy(),optimizer=tf.keras.optimizers.Adam(),metrics=['accuracy'])\n",
    "\n",
    "non_norm_history = model1.fit(train_data,train_labels,epochs=25,validation_data=(test_data,test_labels))"
   ]
  },
  {
   "cell_type": "code",
   "execution_count": 125,
   "metadata": {},
   "outputs": [
    {
     "name": "stdout",
     "output_type": "stream",
     "text": [
      "313/313 [==============================] - 1s 4ms/step - loss: 0.9131 - accuracy: 0.6433\n"
     ]
    },
    {
     "data": {
      "text/plain": [
       "[0.9131120443344116, 0.6433000564575195]"
      ]
     },
     "execution_count": 125,
     "metadata": {},
     "output_type": "execute_result"
    }
   ],
   "source": [
    "# evaluate our model\n",
    "model1.evaluate(test_data,test_labels)"
   ]
  },
  {
   "cell_type": "code",
   "execution_count": 129,
   "metadata": {},
   "outputs": [
    {
     "data": {
      "text/plain": [
       "<AxesSubplot:>"
      ]
     },
     "execution_count": 129,
     "metadata": {},
     "output_type": "execute_result"
    },
    {
     "data": {
      "image/png": "[encoded data removed]",
      "text/plain": [
       "<Figure size 432x288 with 1 Axes>"
      ]
     },
     "metadata": {
      "needs_background": "light"
     },
     "output_type": "display_data"
    }
   ],
   "source": [
    "pd.DataFrame(non_norm_history.history).plot()"
   ]
  },
  {
   "cell_type": "code",
   "execution_count": 124,
   "metadata": {},
   "outputs": [
    {
     "data": {
      "text/plain": [
       "(0.0, 1.0)"
      ]
     },
     "execution_count": 124,
     "metadata": {},
     "output_type": "execute_result"
    }
   ],
   "source": [
    "# try to normize our data\n",
    "train_data_norm = train_data /255.0\n",
    "test_data_norm = test_data /255.0\n",
    "train_data_norm.min(), train_data_norm.max()"
   ]
  },
  {
   "cell_type": "code",
   "execution_count": 131,
   "metadata": {},
   "outputs": [
    {
     "name": "stdout",
     "output_type": "stream",
     "text": [
      "Epoch 1/25\n",
      "  24/1875 [..............................] - ETA: 8s - loss: 2.2312 - accuracy: 0.1602"
     ]
    },
    {
     "name": "stderr",
     "output_type": "stream",
     "text": [
      "2022-07-06 21:45:23.200714: I tensorflow/core/grappler/optimizers/custom_graph_optimizer_registry.cc:113] Plugin optimizer for device_type GPU is enabled.\n"
     ]
    },
    {
     "name": "stdout",
     "output_type": "stream",
     "text": [
      "1865/1875 [============================>.] - ETA: 0s - loss: 1.0984 - accuracy: 0.6269"
     ]
    },
    {
     "name": "stderr",
     "output_type": "stream",
     "text": [
      "2022-07-06 21:45:31.587181: I tensorflow/core/grappler/optimizers/custom_graph_optimizer_registry.cc:113] Plugin optimizer for device_type GPU is enabled.\n"
     ]
    },
    {
     "name": "stdout",
     "output_type": "stream",
     "text": [
      "1875/1875 [==============================] - 10s 5ms/step - loss: 1.0966 - accuracy: 0.6275 - val_loss: 0.7959 - val_accuracy: 0.7328\n",
      "Epoch 2/25\n",
      "1875/1875 [==============================] - 9s 5ms/step - loss: 0.7063 - accuracy: 0.7535 - val_loss: 0.6690 - val_accuracy: 0.7627\n",
      "Epoch 3/25\n",
      "1875/1875 [==============================] - 9s 5ms/step - loss: 0.6184 - accuracy: 0.7861 - val_loss: 0.6178 - val_accuracy: 0.7841\n",
      "Epoch 4/25\n",
      "1875/1875 [==============================] - 10s 5ms/step - loss: 0.5817 - accuracy: 0.7986 - val_loss: 0.5948 - val_accuracy: 0.7950\n",
      "Epoch 5/25\n",
      "1875/1875 [==============================] - 10s 5ms/step - loss: 0.5615 - accuracy: 0.8047 - val_loss: 0.5959 - val_accuracy: 0.7876\n",
      "Epoch 6/25\n",
      "1875/1875 [==============================] - 10s 5ms/step - loss: 0.5451 - accuracy: 0.8095 - val_loss: 0.5637 - val_accuracy: 0.8024\n",
      "Epoch 7/25\n",
      " 520/1875 [=======>......................] - ETA: 6s - loss: 0.5332 - accuracy: 0.8114"
     ]
    }
   ],
   "source": [
    "model_2 = tf.keras.Sequential([\n",
    "    tf.keras.layers.Flatten(input_shape=(28,28)),\n",
    "    tf.keras.layers.Dense(4,activation='relu'),\n",
    "    tf.keras.layers.Dense(4,activation='relu'),\n",
    "    tf.keras.layers.Dense(10,activation='softmax')\n",
    "])\n",
    "\n",
    "\n",
    "model_2.compile(loss=tf.keras.losses.SparseCategoricalCrossentropy(), optimizer=tf.keras.optimizers.Adam(), metrics=['accuracy'])\n",
    "model_2.fit(train_data_norm,train_labels,epochs=25,validation_data=(test_data_norm,test_labels))"
   ]
  },
  {
   "cell_type": "code",
   "execution_count": null,
   "metadata": {},
   "outputs": [],
   "source": []
  }
 ],
 "metadata": {
  "kernelspec": {
   "display_name": "Python 3.9.0 ('tf')",
   "language": "python",
   "name": "python3"
  },
  "language_info": {
   "codemirror_mode": {
    "name": "ipython",
    "version": 3
   },
   "file_extension": ".py",
   "mimetype": "text/x-python",
   "name": "python",
   "nbconvert_exporter": "python",
   "pygments_lexer": "ipython3",
   "version": "3.9.0"
  },
  "orig_nbformat": 4,
  "vscode": {
   "interpreter": {
    "hash": "dec0d4b5e61cb6d7dd711d1ba4555d59e1101b9dac5b804a761a053024f56894"
   }
  }
 },
 "nbformat": 4,
 "nbformat_minor": 2
}
