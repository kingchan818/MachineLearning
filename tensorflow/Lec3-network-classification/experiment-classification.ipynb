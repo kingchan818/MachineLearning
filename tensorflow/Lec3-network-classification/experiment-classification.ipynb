{
 "cells": [
  {
   "cell_type": "code",
   "execution_count": 1,
   "metadata": {},
   "outputs": [],
   "source": [
    "import pandas as pd\n",
    "import matplotlib.pyplot as plt\n",
    "import numpy as np\n",
    "import seaborn as sns\n",
    "import tensorflow as tf\n",
    "from tensorflow.keras.datasets import fashion_mnist"
   ]
  },
  {
   "cell_type": "markdown",
   "metadata": {},
   "source": [
    "# Familiar with data"
   ]
  },
  {
   "cell_type": "code",
   "execution_count": 2,
   "metadata": {},
   "outputs": [],
   "source": [
    "# preparing data for cook 👨🏻‍🍳\n",
    "(train_data, train_labels), (test_data,test_labels) = fashion_mnist.load_data()"
   ]
  },
  {
   "cell_type": "code",
   "execution_count": 3,
   "metadata": {},
   "outputs": [
    {
     "data": {
      "text/plain": [
       "((60000, 28, 28), (60000,))"
      ]
     },
     "execution_count": 3,
     "metadata": {},
     "output_type": "execute_result"
    }
   ],
   "source": [
    "train_data.shape, train_labels.shape"
   ]
  },
  {
   "cell_type": "code",
   "execution_count": 4,
   "metadata": {},
   "outputs": [
    {
     "data": {
      "text/plain": [
       "array([9, 0, 0, ..., 3, 0, 5], dtype=uint8)"
      ]
     },
     "execution_count": 4,
     "metadata": {},
     "output_type": "execute_result"
    }
   ],
   "source": [
    "train_labels"
   ]
  },
  {
   "cell_type": "code",
   "execution_count": 5,
   "metadata": {},
   "outputs": [
    {
     "name": "stdout",
     "output_type": "stream",
     "text": [
      "9\n",
      "(28, 28)\n"
     ]
    }
   ],
   "source": [
    "print(train_labels[0])\n",
    "print(train_data[0].shape)"
   ]
  },
  {
   "cell_type": "code",
   "execution_count": 6,
   "metadata": {},
   "outputs": [
    {
     "data": {
      "text/plain": [
       "<matplotlib.image.AxesImage at 0x176e3da60>"
      ]
     },
     "execution_count": 6,
     "metadata": {},
     "output_type": "execute_result"
    },
    {
     "data": {
      "image/png": "[encoded data removed]",
      "text/plain": [
       "<Figure size 432x288 with 1 Axes>"
      ]
     },
     "metadata": {
      "needs_background": "light"
     },
     "output_type": "display_data"
    }
   ],
   "source": [
    "plt.imshow(train_data[0])"
   ]
  },
  {
   "cell_type": "code",
   "execution_count": 7,
   "metadata": {},
   "outputs": [
    {
     "name": "stdout",
     "output_type": "stream",
     "text": [
      "0\n"
     ]
    },
    {
     "data": {
      "text/plain": [
       "<matplotlib.image.AxesImage at 0x176f41700>"
      ]
     },
     "execution_count": 7,
     "metadata": {},
     "output_type": "execute_result"
    },
    {
     "data": {
      "image/png": "[encoded data removed]",
      "text/plain": [
       "<Figure size 432x288 with 1 Axes>"
      ]
     },
     "metadata": {
      "needs_background": "light"
     },
     "output_type": "display_data"
    }
   ],
   "source": [
    "print(train_labels[1])\n",
    "plt.imshow(train_data[1])"
   ]
  },
  {
   "cell_type": "code",
   "execution_count": 8,
   "metadata": {},
   "outputs": [],
   "source": [
    "classes = [\"T-shirt/top\",\"Trouser\",\"Pullover\",\"Dress\",\"Coat\",\"Sandal\",\"Shirt\",\"Sneaker\",\"Bag\",\"Ankle boot\"]\n",
    "\n",
    "def show_indexing(index):\n",
    "    class_index = train_labels[index]\n",
    "    print(class_index)\n",
    "    label = classes[class_index]\n",
    "    plt.imshow(train_data[class_index])\n",
    "    plt.title(f\"{label}\")"
   ]
  },
  {
   "cell_type": "code",
   "execution_count": 9,
   "metadata": {},
   "outputs": [
    {
     "name": "stdout",
     "output_type": "stream",
     "text": [
      "7\n"
     ]
    },
    {
     "data": {
      "image/png": "[encoded data removed]",
      "text/plain": [
       "<Figure size 432x288 with 1 Axes>"
      ]
     },
     "metadata": {
      "needs_background": "light"
     },
     "output_type": "display_data"
    }
   ],
   "source": [
    "show_indexing(52)"
   ]
  },
  {
   "cell_type": "markdown",
   "metadata": {},
   "source": [
    "# Building up the models"
   ]
  },
  {
   "cell_type": "code",
   "execution_count": 19,
   "metadata": {},
   "outputs": [
    {
     "name": "stdout",
     "output_type": "stream",
     "text": [
      "Metal device set to: Apple M1 Pro\n",
      "\n",
      "systemMemory: 16.00 GB\n",
      "maxCacheSize: 5.33 GB\n",
      "\n",
      "Epoch 1/25\n"
     ]
    },
    {
     "name": "stderr",
     "output_type": "stream",
     "text": [
      "2022-07-06 22:55:00.558485: I tensorflow/core/common_runtime/pluggable_device/pluggable_device_factory.cc:305] Could not identify NUMA node of platform GPU ID 0, defaulting to 0. Your kernel may not have been built with NUMA support.\n",
      "2022-07-06 22:55:00.558844: I tensorflow/core/common_runtime/pluggable_device/pluggable_device_factory.cc:271] Created TensorFlow device (/job:localhost/replica:0/task:0/device:GPU:0 with 0 MB memory) -> physical PluggableDevice (device: 0, name: METAL, pci bus id: <undefined>)\n",
      "2022-07-06 22:55:00.701690: W tensorflow/core/platform/profile_utils/cpu_utils.cc:128] Failed to get CPU frequency: 0 Hz\n"
     ]
    },
    {
     "name": "stdout",
     "output_type": "stream",
     "text": [
      "  11/1875 [..............................] - ETA: 9s - loss: 16.0387 - accuracy: 0.1307  "
     ]
    },
    {
     "name": "stderr",
     "output_type": "stream",
     "text": [
      "2022-07-06 22:55:00.900488: I tensorflow/core/grappler/optimizers/custom_graph_optimizer_registry.cc:113] Plugin optimizer for device_type GPU is enabled.\n"
     ]
    },
    {
     "name": "stdout",
     "output_type": "stream",
     "text": [
      "1870/1875 [============================>.] - ETA: 0s - loss: 2.1780 - accuracy: 0.1626"
     ]
    },
    {
     "name": "stderr",
     "output_type": "stream",
     "text": [
      "2022-07-06 22:55:09.728535: I tensorflow/core/grappler/optimizers/custom_graph_optimizer_registry.cc:113] Plugin optimizer for device_type GPU is enabled.\n"
     ]
    },
    {
     "name": "stdout",
     "output_type": "stream",
     "text": [
      "1875/1875 [==============================] - 10s 5ms/step - loss: 2.1769 - accuracy: 0.1626 - val_loss: 1.8039 - val_accuracy: 0.2066\n",
      "Epoch 2/25\n",
      "1875/1875 [==============================] - 10s 5ms/step - loss: 1.7187 - accuracy: 0.2407 - val_loss: 1.6656 - val_accuracy: 0.2878\n",
      "Epoch 3/25\n",
      "1875/1875 [==============================] - 10s 5ms/step - loss: 1.6392 - accuracy: 0.2819 - val_loss: 1.6069 - val_accuracy: 0.2839\n",
      "Epoch 4/25\n",
      "1875/1875 [==============================] - 9s 5ms/step - loss: 1.6041 - accuracy: 0.2910 - val_loss: 1.5991 - val_accuracy: 0.2972\n",
      "Epoch 5/25\n",
      "1875/1875 [==============================] - 10s 5ms/step - loss: 1.5955 - accuracy: 0.2979 - val_loss: 1.5903 - val_accuracy: 0.3190\n",
      "Epoch 6/25\n",
      "1875/1875 [==============================] - 9s 5ms/step - loss: 1.5816 - accuracy: 0.3088 - val_loss: 1.5638 - val_accuracy: 0.3024\n",
      "Epoch 7/25\n",
      "1875/1875 [==============================] - 9s 5ms/step - loss: 1.5681 - accuracy: 0.3200 - val_loss: 1.5638 - val_accuracy: 0.3248\n",
      "Epoch 8/25\n",
      "1875/1875 [==============================] - 9s 5ms/step - loss: 1.5688 - accuracy: 0.3178 - val_loss: 1.5611 - val_accuracy: 0.3255\n",
      "Epoch 9/25\n",
      "1875/1875 [==============================] - 10s 5ms/step - loss: 1.5356 - accuracy: 0.3408 - val_loss: 1.5266 - val_accuracy: 0.3493\n",
      "Epoch 10/25\n",
      "1875/1875 [==============================] - 10s 5ms/step - loss: 1.5204 - accuracy: 0.3566 - val_loss: 1.4968 - val_accuracy: 0.3777\n",
      "Epoch 11/25\n",
      "1875/1875 [==============================] - 10s 5ms/step - loss: 1.4420 - accuracy: 0.3994 - val_loss: 1.3426 - val_accuracy: 0.4373\n",
      "Epoch 12/25\n",
      "1875/1875 [==============================] - 9s 5ms/step - loss: 1.3088 - accuracy: 0.4473 - val_loss: 1.3232 - val_accuracy: 0.4377\n",
      "Epoch 13/25\n",
      "1875/1875 [==============================] - 10s 5ms/step - loss: 1.2670 - accuracy: 0.4602 - val_loss: 1.2645 - val_accuracy: 0.4724\n",
      "Epoch 14/25\n",
      "1875/1875 [==============================] - 10s 5ms/step - loss: 1.1831 - accuracy: 0.5049 - val_loss: 1.1356 - val_accuracy: 0.5327\n",
      "Epoch 15/25\n",
      "1875/1875 [==============================] - 10s 5ms/step - loss: 1.0920 - accuracy: 0.5382 - val_loss: 1.0618 - val_accuracy: 0.5555\n",
      "Epoch 16/25\n",
      "1875/1875 [==============================] - 10s 5ms/step - loss: 1.0513 - accuracy: 0.5491 - val_loss: 1.0424 - val_accuracy: 0.5719\n",
      "Epoch 17/25\n",
      "1875/1875 [==============================] - 10s 5ms/step - loss: 1.0341 - accuracy: 0.5618 - val_loss: 1.0410 - val_accuracy: 0.5700\n",
      "Epoch 18/25\n",
      "1875/1875 [==============================] - 10s 5ms/step - loss: 1.0161 - accuracy: 0.5737 - val_loss: 1.0044 - val_accuracy: 0.5983\n",
      "Epoch 19/25\n",
      "1875/1875 [==============================] - 10s 5ms/step - loss: 1.0053 - accuracy: 0.5871 - val_loss: 1.0264 - val_accuracy: 0.5460\n",
      "Epoch 20/25\n",
      "1875/1875 [==============================] - 10s 5ms/step - loss: 0.9843 - accuracy: 0.5972 - val_loss: 1.0077 - val_accuracy: 0.5952\n",
      "Epoch 21/25\n",
      "1875/1875 [==============================] - 9s 5ms/step - loss: 0.9784 - accuracy: 0.6036 - val_loss: 0.9617 - val_accuracy: 0.6210\n",
      "Epoch 22/25\n",
      "1875/1875 [==============================] - 9s 5ms/step - loss: 0.9550 - accuracy: 0.6098 - val_loss: 0.9513 - val_accuracy: 0.6228\n",
      "Epoch 23/25\n",
      "1875/1875 [==============================] - 10s 5ms/step - loss: 0.9432 - accuracy: 0.6181 - val_loss: 0.9647 - val_accuracy: 0.6092\n",
      "Epoch 24/25\n",
      "1875/1875 [==============================] - 10s 5ms/step - loss: 0.9358 - accuracy: 0.6170 - val_loss: 0.9414 - val_accuracy: 0.6173\n",
      "Epoch 25/25\n",
      "1875/1875 [==============================] - 10s 5ms/step - loss: 0.9275 - accuracy: 0.6209 - val_loss: 0.9131 - val_accuracy: 0.6433\n"
     ]
    }
   ],
   "source": [
    "tf.random.set_seed(42)\n",
    "model1 = tf.keras.Sequential([\n",
    "    tf.keras.layers.Flatten(input_shape=(28,28)),\n",
    "    tf.keras.layers.Dense(4,activation='relu'),\n",
    "    tf.keras.layers.Dense(4,activation='relu'),\n",
    "    tf.keras.layers.Dense(10,activation='softmax')\n",
    "])\n",
    "\n",
    "model1.compile(loss=tf.keras.losses.SparseCategoricalCrossentropy(),optimizer=tf.keras.optimizers.Adam(),metrics=['accuracy'])\n",
    "\n",
    "non_norm_history = model1.fit(train_data,train_labels,epochs=25,validation_data=(test_data,test_labels))"
   ]
  },
  {
   "cell_type": "code",
   "execution_count": 20,
   "metadata": {},
   "outputs": [
    {
     "name": "stdout",
     "output_type": "stream",
     "text": [
      "313/313 [==============================] - 1s 4ms/step - loss: 0.9131 - accuracy: 0.6433\n"
     ]
    },
    {
     "data": {
      "text/plain": [
       "[0.9131120443344116, 0.6433000564575195]"
      ]
     },
     "execution_count": 20,
     "metadata": {},
     "output_type": "execute_result"
    }
   ],
   "source": [
    "# evaluate our model\n",
    "model1.evaluate(test_data,test_labels)"
   ]
  },
  {
   "cell_type": "code",
   "execution_count": 21,
   "metadata": {},
   "outputs": [
    {
     "data": {
      "text/plain": [
       "<AxesSubplot:>"
      ]
     },
     "execution_count": 21,
     "metadata": {},
     "output_type": "execute_result"
    },
    {
     "data": {
      "image/png": "[encoded data removed]",
      "text/plain": [
       "<Figure size 432x288 with 1 Axes>"
      ]
     },
     "metadata": {
      "needs_background": "light"
     },
     "output_type": "display_data"
    }
   ],
   "source": [
    "pd.DataFrame(non_norm_history.history).plot()"
   ]
  },
  {
   "cell_type": "code",
   "execution_count": 10,
   "metadata": {},
   "outputs": [
    {
     "data": {
      "text/plain": [
       "(0.0, 1.0)"
      ]
     },
     "execution_count": 10,
     "metadata": {},
     "output_type": "execute_result"
    }
   ],
   "source": [
    "# try to normize our data\n",
    "train_data_norm = train_data /255.0\n",
    "test_data_norm = test_data /255.0\n",
    "train_data_norm.min(), train_data_norm.max()"
   ]
  },
  {
   "cell_type": "code",
   "execution_count": 23,
   "metadata": {},
   "outputs": [
    {
     "name": "stdout",
     "output_type": "stream",
     "text": [
      "Epoch 1/25\n",
      "  23/1875 [..............................] - ETA: 8s - loss: 2.2343 - accuracy: 0.1644"
     ]
    },
    {
     "name": "stderr",
     "output_type": "stream",
     "text": [
      "2022-07-06 22:59:04.794851: I tensorflow/core/grappler/optimizers/custom_graph_optimizer_registry.cc:113] Plugin optimizer for device_type GPU is enabled.\n"
     ]
    },
    {
     "name": "stdout",
     "output_type": "stream",
     "text": [
      "1872/1875 [============================>.] - ETA: 0s - loss: 1.0973 - accuracy: 0.6272"
     ]
    },
    {
     "name": "stderr",
     "output_type": "stream",
     "text": [
      "2022-07-06 22:59:14.036352: I tensorflow/core/grappler/optimizers/custom_graph_optimizer_registry.cc:113] Plugin optimizer for device_type GPU is enabled.\n"
     ]
    },
    {
     "name": "stdout",
     "output_type": "stream",
     "text": [
      "1875/1875 [==============================] - 11s 6ms/step - loss: 1.0966 - accuracy: 0.6275 - val_loss: 0.7959 - val_accuracy: 0.7328\n",
      "Epoch 2/25\n",
      "1875/1875 [==============================] - 9s 5ms/step - loss: 0.7063 - accuracy: 0.7535 - val_loss: 0.6690 - val_accuracy: 0.7627\n",
      "Epoch 3/25\n",
      "1875/1875 [==============================] - 10s 5ms/step - loss: 0.6184 - accuracy: 0.7861 - val_loss: 0.6178 - val_accuracy: 0.7841\n",
      "Epoch 4/25\n",
      "1875/1875 [==============================] - 10s 5ms/step - loss: 0.5817 - accuracy: 0.7986 - val_loss: 0.5948 - val_accuracy: 0.7950\n",
      "Epoch 5/25\n",
      "1875/1875 [==============================] - 10s 6ms/step - loss: 0.5615 - accuracy: 0.8047 - val_loss: 0.5959 - val_accuracy: 0.7876\n",
      "Epoch 6/25\n",
      "1875/1875 [==============================] - 10s 5ms/step - loss: 0.5451 - accuracy: 0.8095 - val_loss: 0.5637 - val_accuracy: 0.8024\n",
      "Epoch 7/25\n",
      "1875/1875 [==============================] - 10s 5ms/step - loss: 0.5350 - accuracy: 0.8119 - val_loss: 0.5496 - val_accuracy: 0.8093\n",
      "Epoch 8/25\n",
      "1875/1875 [==============================] - 10s 5ms/step - loss: 0.5249 - accuracy: 0.8167 - val_loss: 0.5610 - val_accuracy: 0.8046\n",
      "Epoch 9/25\n",
      "1875/1875 [==============================] - 9s 5ms/step - loss: 0.5171 - accuracy: 0.8182 - val_loss: 0.5378 - val_accuracy: 0.8110\n",
      "Epoch 10/25\n",
      "1875/1875 [==============================] - 9s 5ms/step - loss: 0.5100 - accuracy: 0.8208 - val_loss: 0.5439 - val_accuracy: 0.8050\n",
      "Epoch 11/25\n",
      "1875/1875 [==============================] - 9s 5ms/step - loss: 0.5051 - accuracy: 0.8216 - val_loss: 0.5343 - val_accuracy: 0.8090\n",
      "Epoch 12/25\n",
      "1875/1875 [==============================] - 9s 5ms/step - loss: 0.4986 - accuracy: 0.8232 - val_loss: 0.5345 - val_accuracy: 0.8121\n",
      "Epoch 13/25\n",
      "1875/1875 [==============================] - 9s 5ms/step - loss: 0.4954 - accuracy: 0.8266 - val_loss: 0.5293 - val_accuracy: 0.8155\n",
      "Epoch 14/25\n",
      "1875/1875 [==============================] - 10s 5ms/step - loss: 0.4911 - accuracy: 0.8279 - val_loss: 0.5315 - val_accuracy: 0.8127\n",
      "Epoch 15/25\n",
      "1875/1875 [==============================] - 10s 6ms/step - loss: 0.4878 - accuracy: 0.8275 - val_loss: 0.5155 - val_accuracy: 0.8194\n",
      "Epoch 16/25\n",
      "1875/1875 [==============================] - 10s 5ms/step - loss: 0.4850 - accuracy: 0.8293 - val_loss: 0.5182 - val_accuracy: 0.8197\n",
      "Epoch 17/25\n",
      "1875/1875 [==============================] - 10s 5ms/step - loss: 0.4818 - accuracy: 0.8305 - val_loss: 0.5204 - val_accuracy: 0.8160\n",
      "Epoch 18/25\n",
      "1875/1875 [==============================] - 10s 5ms/step - loss: 0.4815 - accuracy: 0.8296 - val_loss: 0.5248 - val_accuracy: 0.8129\n",
      "Epoch 19/25\n",
      "1875/1875 [==============================] - 10s 5ms/step - loss: 0.4797 - accuracy: 0.8313 - val_loss: 0.5157 - val_accuracy: 0.8186\n",
      "Epoch 20/25\n",
      "1875/1875 [==============================] - 10s 5ms/step - loss: 0.4774 - accuracy: 0.8329 - val_loss: 0.5138 - val_accuracy: 0.8215\n",
      "Epoch 21/25\n",
      "1875/1875 [==============================] - 9s 5ms/step - loss: 0.4749 - accuracy: 0.8330 - val_loss: 0.5209 - val_accuracy: 0.8171\n",
      "Epoch 22/25\n",
      "1875/1875 [==============================] - 9s 5ms/step - loss: 0.4738 - accuracy: 0.8339 - val_loss: 0.5290 - val_accuracy: 0.8158\n",
      "Epoch 23/25\n",
      "1875/1875 [==============================] - 9s 5ms/step - loss: 0.4724 - accuracy: 0.8349 - val_loss: 0.5244 - val_accuracy: 0.8165\n",
      "Epoch 24/25\n",
      "1875/1875 [==============================] - 9s 5ms/step - loss: 0.4716 - accuracy: 0.8349 - val_loss: 0.5219 - val_accuracy: 0.8159\n",
      "Epoch 25/25\n",
      "1875/1875 [==============================] - 9s 5ms/step - loss: 0.4705 - accuracy: 0.8355 - val_loss: 0.5216 - val_accuracy: 0.8197\n"
     ]
    }
   ],
   "source": [
    "model_2 = tf.keras.Sequential([\n",
    "    tf.keras.layers.Flatten(input_shape=(28,28)),\n",
    "    tf.keras.layers.Dense(4,activation='relu'),\n",
    "    tf.keras.layers.Dense(4,activation='relu'),\n",
    "    tf.keras.layers.Dense(10,activation='softmax')\n",
    "])\n",
    "\n",
    "\n",
    "model_2.compile(loss=tf.keras.losses.SparseCategoricalCrossentropy(), optimizer=tf.keras.optimizers.Adam(), metrics=['accuracy'])\n",
    "model_2_hist = model_2.fit(train_data_norm,train_labels,epochs=25,validation_data=(test_data_norm,test_labels))"
   ]
  },
  {
   "cell_type": "code",
   "execution_count": 24,
   "metadata": {},
   "outputs": [
    {
     "name": "stdout",
     "output_type": "stream",
     "text": [
      "313/313 [==============================] - 1s 4ms/step - loss: 0.5216 - accuracy: 0.8197\n"
     ]
    },
    {
     "data": {
      "text/plain": [
       "[0.5216072797775269, 0.8197000622749329]"
      ]
     },
     "execution_count": 24,
     "metadata": {},
     "output_type": "execute_result"
    }
   ],
   "source": [
    "model_2.evaluate(test_data_norm,test_labels)"
   ]
  },
  {
   "cell_type": "code",
   "execution_count": 11,
   "metadata": {},
   "outputs": [
    {
     "name": "stdout",
     "output_type": "stream",
     "text": [
      "Metal device set to: Apple M1 Pro\n",
      "\n",
      "systemMemory: 16.00 GB\n",
      "maxCacheSize: 5.33 GB\n",
      "\n"
     ]
    },
    {
     "name": "stderr",
     "output_type": "stream",
     "text": [
      "2022-07-07 16:17:46.526048: I tensorflow/core/common_runtime/pluggable_device/pluggable_device_factory.cc:305] Could not identify NUMA node of platform GPU ID 0, defaulting to 0. Your kernel may not have been built with NUMA support.\n",
      "2022-07-07 16:17:46.526356: I tensorflow/core/common_runtime/pluggable_device/pluggable_device_factory.cc:271] Created TensorFlow device (/job:localhost/replica:0/task:0/device:GPU:0 with 0 MB memory) -> physical PluggableDevice (device: 0, name: METAL, pci bus id: <undefined>)\n"
     ]
    },
    {
     "name": "stdout",
     "output_type": "stream",
     "text": [
      "Epoch 1/50\n"
     ]
    },
    {
     "name": "stderr",
     "output_type": "stream",
     "text": [
      "2022-07-07 16:17:46.751216: W tensorflow/core/platform/profile_utils/cpu_utils.cc:128] Failed to get CPU frequency: 0 Hz\n",
      "2022-07-07 16:17:46.942269: I tensorflow/core/grappler/optimizers/custom_graph_optimizer_registry.cc:113] Plugin optimizer for device_type GPU is enabled.\n"
     ]
    },
    {
     "name": "stdout",
     "output_type": "stream",
     "text": [
      "1875/1875 [==============================] - ETA: 0s - loss: 1.9614 - accuracy: 0.2640"
     ]
    },
    {
     "name": "stderr",
     "output_type": "stream",
     "text": [
      "2022-07-07 16:17:55.657443: I tensorflow/core/grappler/optimizers/custom_graph_optimizer_registry.cc:113] Plugin optimizer for device_type GPU is enabled.\n"
     ]
    },
    {
     "name": "stdout",
     "output_type": "stream",
     "text": [
      "1875/1875 [==============================] - 10s 5ms/step - loss: 1.9614 - accuracy: 0.2640 - val_loss: 1.7298 - val_accuracy: 0.3726 - lr: 1.0000e-04\n",
      "Epoch 2/50\n",
      "1875/1875 [==============================] - 9s 5ms/step - loss: 1.5277 - accuracy: 0.4900 - val_loss: 1.3838 - val_accuracy: 0.5817 - lr: 1.1220e-04\n",
      "Epoch 3/50\n",
      "1875/1875 [==============================] - 10s 5ms/step - loss: 1.2810 - accuracy: 0.6048 - val_loss: 1.2246 - val_accuracy: 0.6229 - lr: 1.2589e-04\n",
      "Epoch 4/50\n",
      "1875/1875 [==============================] - 10s 5ms/step - loss: 1.1625 - accuracy: 0.6389 - val_loss: 1.1399 - val_accuracy: 0.6506 - lr: 1.4125e-04\n",
      "Epoch 5/50\n",
      "1875/1875 [==============================] - 10s 5ms/step - loss: 1.0923 - accuracy: 0.6625 - val_loss: 1.0803 - val_accuracy: 0.6666 - lr: 1.5849e-04\n",
      "Epoch 6/50\n",
      "1875/1875 [==============================] - 9s 5ms/step - loss: 1.0382 - accuracy: 0.6829 - val_loss: 1.0311 - val_accuracy: 0.6857 - lr: 1.7783e-04\n",
      "Epoch 7/50\n",
      "1875/1875 [==============================] - 9s 5ms/step - loss: 0.9871 - accuracy: 0.6987 - val_loss: 0.9814 - val_accuracy: 0.7002 - lr: 1.9953e-04\n",
      "Epoch 8/50\n",
      "1875/1875 [==============================] - 9s 5ms/step - loss: 0.9310 - accuracy: 0.7177 - val_loss: 0.9226 - val_accuracy: 0.7188 - lr: 2.2387e-04\n",
      "Epoch 9/50\n",
      "1875/1875 [==============================] - 10s 5ms/step - loss: 0.8724 - accuracy: 0.7311 - val_loss: 0.8666 - val_accuracy: 0.7203 - lr: 2.5119e-04\n",
      "Epoch 10/50\n",
      "1875/1875 [==============================] - 9s 5ms/step - loss: 0.8206 - accuracy: 0.7394 - val_loss: 0.8189 - val_accuracy: 0.7340 - lr: 2.8184e-04\n",
      "Epoch 11/50\n",
      "1875/1875 [==============================] - 9s 5ms/step - loss: 0.7755 - accuracy: 0.7490 - val_loss: 0.7838 - val_accuracy: 0.7440 - lr: 3.1623e-04\n",
      "Epoch 12/50\n",
      "1875/1875 [==============================] - 10s 5ms/step - loss: 0.7367 - accuracy: 0.7580 - val_loss: 0.7476 - val_accuracy: 0.7518 - lr: 3.5481e-04\n",
      "Epoch 13/50\n",
      "1875/1875 [==============================] - 9s 5ms/step - loss: 0.7025 - accuracy: 0.7663 - val_loss: 0.7316 - val_accuracy: 0.7579 - lr: 3.9811e-04\n",
      "Epoch 14/50\n",
      "1875/1875 [==============================] - 9s 5ms/step - loss: 0.6749 - accuracy: 0.7720 - val_loss: 0.6944 - val_accuracy: 0.7626 - lr: 4.4668e-04\n",
      "Epoch 15/50\n",
      "1875/1875 [==============================] - 9s 5ms/step - loss: 0.6536 - accuracy: 0.7784 - val_loss: 0.6764 - val_accuracy: 0.7641 - lr: 5.0119e-04\n",
      "Epoch 16/50\n",
      "1875/1875 [==============================] - 9s 5ms/step - loss: 0.6388 - accuracy: 0.7819 - val_loss: 0.6636 - val_accuracy: 0.7722 - lr: 5.6234e-04\n",
      "Epoch 17/50\n",
      "1875/1875 [==============================] - 10s 5ms/step - loss: 0.6234 - accuracy: 0.7859 - val_loss: 0.6461 - val_accuracy: 0.7760 - lr: 6.3096e-04\n",
      "Epoch 18/50\n",
      "1875/1875 [==============================] - 10s 5ms/step - loss: 0.6105 - accuracy: 0.7894 - val_loss: 0.6297 - val_accuracy: 0.7830 - lr: 7.0795e-04\n",
      "Epoch 19/50\n",
      "1875/1875 [==============================] - 10s 5ms/step - loss: 0.5995 - accuracy: 0.7924 - val_loss: 0.6241 - val_accuracy: 0.7859 - lr: 7.9433e-04\n",
      "Epoch 20/50\n",
      "1875/1875 [==============================] - 9s 5ms/step - loss: 0.5889 - accuracy: 0.7960 - val_loss: 0.6064 - val_accuracy: 0.7923 - lr: 8.9125e-04\n",
      "Epoch 21/50\n",
      "1875/1875 [==============================] - 10s 5ms/step - loss: 0.5778 - accuracy: 0.7988 - val_loss: 0.6104 - val_accuracy: 0.7906 - lr: 0.0010\n",
      "Epoch 22/50\n",
      "1875/1875 [==============================] - 10s 5ms/step - loss: 0.5656 - accuracy: 0.8019 - val_loss: 0.6096 - val_accuracy: 0.7899 - lr: 0.0011\n",
      "Epoch 23/50\n",
      "1875/1875 [==============================] - 10s 5ms/step - loss: 0.5561 - accuracy: 0.8057 - val_loss: 0.5786 - val_accuracy: 0.7991 - lr: 0.0013\n",
      "Epoch 24/50\n",
      "1875/1875 [==============================] - 10s 5ms/step - loss: 0.5444 - accuracy: 0.8100 - val_loss: 0.5725 - val_accuracy: 0.8068 - lr: 0.0014\n",
      "Epoch 25/50\n",
      "1875/1875 [==============================] - 10s 5ms/step - loss: 0.5329 - accuracy: 0.8153 - val_loss: 0.5558 - val_accuracy: 0.8113 - lr: 0.0016\n",
      "Epoch 26/50\n",
      "1875/1875 [==============================] - 10s 5ms/step - loss: 0.5238 - accuracy: 0.8176 - val_loss: 0.5538 - val_accuracy: 0.8063 - lr: 0.0018\n",
      "Epoch 27/50\n",
      "1875/1875 [==============================] - 10s 5ms/step - loss: 0.5175 - accuracy: 0.8212 - val_loss: 0.5579 - val_accuracy: 0.8049 - lr: 0.0020\n",
      "Epoch 28/50\n",
      "1875/1875 [==============================] - 10s 5ms/step - loss: 0.5142 - accuracy: 0.8222 - val_loss: 0.5398 - val_accuracy: 0.8133 - lr: 0.0022\n",
      "Epoch 29/50\n",
      "1875/1875 [==============================] - 10s 5ms/step - loss: 0.5080 - accuracy: 0.8236 - val_loss: 0.5323 - val_accuracy: 0.8145 - lr: 0.0025\n",
      "Epoch 30/50\n",
      "1875/1875 [==============================] - 10s 5ms/step - loss: 0.5094 - accuracy: 0.8233 - val_loss: 0.5546 - val_accuracy: 0.8032 - lr: 0.0028\n",
      "Epoch 31/50\n",
      "1875/1875 [==============================] - 10s 5ms/step - loss: 0.5082 - accuracy: 0.8234 - val_loss: 0.5636 - val_accuracy: 0.8064 - lr: 0.0032\n",
      "Epoch 32/50\n",
      "1875/1875 [==============================] - 9s 5ms/step - loss: 0.5129 - accuracy: 0.8222 - val_loss: 0.5379 - val_accuracy: 0.8163 - lr: 0.0035\n",
      "Epoch 33/50\n",
      "1875/1875 [==============================] - 9s 5ms/step - loss: 0.5091 - accuracy: 0.8224 - val_loss: 0.5476 - val_accuracy: 0.8086 - lr: 0.0040\n",
      "Epoch 34/50\n",
      "1875/1875 [==============================] - 9s 5ms/step - loss: 0.5099 - accuracy: 0.8228 - val_loss: 0.5449 - val_accuracy: 0.8110 - lr: 0.0045\n",
      "Epoch 35/50\n",
      "1875/1875 [==============================] - 9s 5ms/step - loss: 0.5102 - accuracy: 0.8216 - val_loss: 0.5564 - val_accuracy: 0.8082 - lr: 0.0050\n",
      "Epoch 36/50\n",
      "1875/1875 [==============================] - 9s 5ms/step - loss: 0.5158 - accuracy: 0.8203 - val_loss: 0.5534 - val_accuracy: 0.8076 - lr: 0.0056\n",
      "Epoch 37/50\n",
      "1875/1875 [==============================] - 9s 5ms/step - loss: 0.5154 - accuracy: 0.8211 - val_loss: 0.5566 - val_accuracy: 0.8018 - lr: 0.0063\n",
      "Epoch 38/50\n",
      "1875/1875 [==============================] - 9s 5ms/step - loss: 0.5181 - accuracy: 0.8186 - val_loss: 0.5402 - val_accuracy: 0.8117 - lr: 0.0071\n",
      "Epoch 39/50\n",
      "1875/1875 [==============================] - 9s 5ms/step - loss: 0.5160 - accuracy: 0.8197 - val_loss: 0.5641 - val_accuracy: 0.8017 - lr: 0.0079\n",
      "Epoch 40/50\n",
      "1875/1875 [==============================] - 9s 5ms/step - loss: 0.5234 - accuracy: 0.8166 - val_loss: 0.5575 - val_accuracy: 0.8005 - lr: 0.0089\n",
      "Epoch 41/50\n",
      "1875/1875 [==============================] - 9s 5ms/step - loss: 0.5308 - accuracy: 0.8131 - val_loss: 0.5659 - val_accuracy: 0.8055 - lr: 0.0100\n",
      "Epoch 42/50\n",
      "1875/1875 [==============================] - 9s 5ms/step - loss: 0.5325 - accuracy: 0.8149 - val_loss: 0.5838 - val_accuracy: 0.8006 - lr: 0.0112\n",
      "Epoch 43/50\n",
      "1875/1875 [==============================] - 9s 5ms/step - loss: 0.5413 - accuracy: 0.8114 - val_loss: 0.6921 - val_accuracy: 0.7381 - lr: 0.0126\n",
      "Epoch 44/50\n",
      "1875/1875 [==============================] - 9s 5ms/step - loss: 0.5469 - accuracy: 0.8097 - val_loss: 0.5918 - val_accuracy: 0.8032 - lr: 0.0141\n",
      "Epoch 45/50\n",
      "1875/1875 [==============================] - 9s 5ms/step - loss: 0.5557 - accuracy: 0.8082 - val_loss: 0.6233 - val_accuracy: 0.7915 - lr: 0.0158\n",
      "Epoch 46/50\n",
      "1875/1875 [==============================] - 9s 5ms/step - loss: 0.5701 - accuracy: 0.8041 - val_loss: 0.6796 - val_accuracy: 0.7866 - lr: 0.0178\n",
      "Epoch 47/50\n",
      "1875/1875 [==============================] - 9s 5ms/step - loss: 0.5717 - accuracy: 0.8059 - val_loss: 0.6060 - val_accuracy: 0.8082 - lr: 0.0200\n",
      "Epoch 48/50\n",
      "1875/1875 [==============================] - 9s 5ms/step - loss: 0.5980 - accuracy: 0.7956 - val_loss: 0.6049 - val_accuracy: 0.8019 - lr: 0.0224\n",
      "Epoch 49/50\n",
      "1875/1875 [==============================] - 9s 5ms/step - loss: 0.6172 - accuracy: 0.7885 - val_loss: 0.6488 - val_accuracy: 0.7708 - lr: 0.0251\n",
      "Epoch 50/50\n",
      "1875/1875 [==============================] - 10s 5ms/step - loss: 0.6409 - accuracy: 0.7748 - val_loss: 0.6261 - val_accuracy: 0.7743 - lr: 0.0282\n"
     ]
    }
   ],
   "source": [
    "# try to optimize the learning rate\n",
    "\n",
    "model_3 = tf.keras.Sequential([\n",
    "    tf.keras.layers.Flatten(input_shape=(28,28)),\n",
    "    tf.keras.layers.Dense(4,activation='relu'),\n",
    "    tf.keras.layers.Dense(4,activation='relu'),\n",
    "    tf.keras.layers.Dense(10, activation='softmax'),\n",
    "])\n",
    "\n",
    "model_3.compile(\n",
    "    loss=tf.keras.losses.SparseCategoricalCrossentropy(),\n",
    "    optimizer= tf.keras.optimizers.Adam(),\n",
    "    metrics=['accuracy'],\n",
    ")\n",
    "\n",
    "lr_sche = tf.keras.callbacks.LearningRateScheduler(lambda epoch : 1e-4*10**(epoch/20))\n",
    "model_3_hist = model_3.fit(train_data_norm,train_labels, epochs=50, validation_data=(test_data_norm,test_labels), callbacks=[lr_sche])"
   ]
  },
  {
   "cell_type": "code",
   "execution_count": 12,
   "metadata": {},
   "outputs": [
    {
     "data": {
      "text/plain": [
       "<AxesSubplot:title={'center':'model_3'}>"
      ]
     },
     "execution_count": 12,
     "metadata": {},
     "output_type": "execute_result"
    },
    {
     "data": {
      "image/png": "[encoded data removed]",
      "text/plain": [
       "<Figure size 432x288 with 1 Axes>"
      ]
     },
     "metadata": {
      "needs_background": "light"
     },
     "output_type": "display_data"
    }
   ],
   "source": [
    "pd.DataFrame(model_3_hist.history).plot(title=\"model_3\")\n",
    "# pd.DataFrame(model_2_hist.history).plot(title=\"model_2\")"
   ]
  },
  {
   "cell_type": "code",
   "execution_count": 13,
   "metadata": {},
   "outputs": [
    {
     "data": {
      "text/plain": [
       "0     1.961400\n",
       "1     1.527664\n",
       "2     1.280983\n",
       "3     1.162467\n",
       "4     1.092331\n",
       "5     1.038244\n",
       "6     0.987115\n",
       "7     0.931048\n",
       "8     0.872432\n",
       "9     0.820638\n",
       "10    0.775481\n",
       "11    0.736707\n",
       "12    0.702456\n",
       "13    0.674863\n",
       "14    0.653621\n",
       "15    0.638813\n",
       "16    0.623407\n",
       "17    0.610466\n",
       "18    0.599507\n",
       "19    0.588885\n",
       "20    0.577801\n",
       "21    0.565577\n",
       "22    0.556109\n",
       "23    0.544352\n",
       "24    0.532910\n",
       "25    0.523835\n",
       "26    0.517520\n",
       "27    0.514228\n",
       "28    0.508027\n",
       "29    0.509357\n",
       "30    0.508199\n",
       "31    0.512851\n",
       "32    0.509062\n",
       "33    0.509899\n",
       "34    0.510248\n",
       "35    0.515800\n",
       "36    0.515430\n",
       "37    0.518112\n",
       "38    0.516046\n",
       "39    0.523399\n",
       "40    0.530830\n",
       "41    0.532523\n",
       "42    0.541326\n",
       "43    0.546861\n",
       "44    0.555654\n",
       "45    0.570057\n",
       "46    0.571673\n",
       "47    0.597984\n",
       "48    0.617247\n",
       "49    0.640906\n",
       "Name: loss, dtype: float64"
      ]
     },
     "execution_count": 13,
     "metadata": {},
     "output_type": "execute_result"
    }
   ],
   "source": [
    "# make a graph of lossest loss vs accuracy\n",
    "learnR_vs_loss = pd.DataFrame(model_3_hist.history)\n",
    "loss = learnR_vs_loss['loss']\n",
    "loss"
   ]
  },
  {
   "cell_type": "code",
   "execution_count": 15,
   "metadata": {},
   "outputs": [
    {
     "data": {
      "text/plain": [
       "Text(0, 0.5, 'Lossess')"
      ]
     },
     "execution_count": 15,
     "metadata": {},
     "output_type": "execute_result"
    },
    {
     "data": {
      "image/png": "[encoded data removed]",
      "text/plain": [
       "<Figure size 720x504 with 1 Axes>"
      ]
     },
     "metadata": {
      "needs_background": "light"
     },
     "output_type": "display_data"
    }
   ],
   "source": [
    "plt.figure(figsize=(10,7))\n",
    "learning_rate = 1e-4* (10**(tf.range(50)/20))\n",
    "graph = plt.semilogx(learning_rate, loss)\n",
    "plt.xlabel(\"Learning Rate\")\n",
    "plt.ylabel(\"Lossess\")"
   ]
  },
  {
   "cell_type": "code",
   "execution_count": 30,
   "metadata": {},
   "outputs": [
    {
     "data": {
      "text/plain": [
       "0.0025118864315095794"
      ]
     },
     "execution_count": 30,
     "metadata": {},
     "output_type": "execute_result"
    }
   ],
   "source": [
    "y_values = graph[0].get_ydata()\n",
    "x_values = graph[0].get_xdata()\n",
    "\n",
    "index = np.where(y_values == loss.min())\n",
    "\n",
    "perfect_lr = x_values[index[0][0]]\n",
    "perfect_lr.numpy()"
   ]
  },
  {
   "cell_type": "code",
   "execution_count": 31,
   "metadata": {},
   "outputs": [
    {
     "name": "stdout",
     "output_type": "stream",
     "text": [
      "Epoch 1/25\n"
     ]
    },
    {
     "name": "stderr",
     "output_type": "stream",
     "text": [
      "/Users/kingchan818/miniforge3/envs/tf/lib/python3.9/site-packages/keras/optimizers/optimizer_v2/adam.py:110: UserWarning: The `lr` argument is deprecated, use `learning_rate` instead.\n",
      "  super(Adam, self).__init__(name, **kwargs)\n"
     ]
    },
    {
     "name": "stdout",
     "output_type": "stream",
     "text": [
      "  24/1875 [..............................] - ETA: 8s - loss: 2.2046 - accuracy: 0.1927"
     ]
    },
    {
     "name": "stderr",
     "output_type": "stream",
     "text": [
      "2022-07-07 16:48:53.344925: I tensorflow/core/grappler/optimizers/custom_graph_optimizer_registry.cc:113] Plugin optimizer for device_type GPU is enabled.\n"
     ]
    },
    {
     "name": "stdout",
     "output_type": "stream",
     "text": [
      "1865/1875 [============================>.] - ETA: 0s - loss: 0.8280 - accuracy: 0.7129"
     ]
    },
    {
     "name": "stderr",
     "output_type": "stream",
     "text": [
      "2022-07-07 16:49:01.855071: I tensorflow/core/grappler/optimizers/custom_graph_optimizer_registry.cc:113] Plugin optimizer for device_type GPU is enabled.\n"
     ]
    },
    {
     "name": "stdout",
     "output_type": "stream",
     "text": [
      "1875/1875 [==============================] - 10s 5ms/step - loss: 0.8270 - accuracy: 0.7133 - val_loss: 0.6338 - val_accuracy: 0.7820\n",
      "Epoch 2/25\n",
      "1875/1875 [==============================] - 9s 5ms/step - loss: 0.5962 - accuracy: 0.7968 - val_loss: 0.6031 - val_accuracy: 0.7907\n",
      "Epoch 3/25\n",
      "1875/1875 [==============================] - 9s 5ms/step - loss: 0.5607 - accuracy: 0.8056 - val_loss: 0.5777 - val_accuracy: 0.8032\n",
      "Epoch 4/25\n",
      "1875/1875 [==============================] - 9s 5ms/step - loss: 0.5416 - accuracy: 0.8130 - val_loss: 0.6265 - val_accuracy: 0.7868\n",
      "Epoch 5/25\n",
      "1875/1875 [==============================] - 10s 5ms/step - loss: 0.5318 - accuracy: 0.8166 - val_loss: 0.5593 - val_accuracy: 0.8152\n",
      "Epoch 6/25\n",
      "1875/1875 [==============================] - 9s 5ms/step - loss: 0.5227 - accuracy: 0.8188 - val_loss: 0.5679 - val_accuracy: 0.8057\n",
      "Epoch 7/25\n",
      "1875/1875 [==============================] - 9s 5ms/step - loss: 0.5146 - accuracy: 0.8214 - val_loss: 0.5651 - val_accuracy: 0.8074\n",
      "Epoch 8/25\n",
      "1875/1875 [==============================] - 9s 5ms/step - loss: 0.5106 - accuracy: 0.8232 - val_loss: 0.5525 - val_accuracy: 0.8146\n",
      "Epoch 9/25\n",
      "1875/1875 [==============================] - 9s 5ms/step - loss: 0.5043 - accuracy: 0.8238 - val_loss: 0.5960 - val_accuracy: 0.7937\n",
      "Epoch 10/25\n",
      "1875/1875 [==============================] - 9s 5ms/step - loss: 0.5001 - accuracy: 0.8260 - val_loss: 0.5470 - val_accuracy: 0.8159\n",
      "Epoch 11/25\n",
      "1875/1875 [==============================] - 9s 5ms/step - loss: 0.4968 - accuracy: 0.8259 - val_loss: 0.5414 - val_accuracy: 0.8175\n",
      "Epoch 12/25\n",
      "1875/1875 [==============================] - 9s 5ms/step - loss: 0.4933 - accuracy: 0.8284 - val_loss: 0.5502 - val_accuracy: 0.8176\n",
      "Epoch 13/25\n",
      "1875/1875 [==============================] - 9s 5ms/step - loss: 0.4905 - accuracy: 0.8296 - val_loss: 0.5611 - val_accuracy: 0.8089\n",
      "Epoch 14/25\n",
      "1875/1875 [==============================] - 9s 5ms/step - loss: 0.4896 - accuracy: 0.8295 - val_loss: 0.5444 - val_accuracy: 0.8159\n",
      "Epoch 15/25\n",
      "1875/1875 [==============================] - 9s 5ms/step - loss: 0.4878 - accuracy: 0.8280 - val_loss: 0.5415 - val_accuracy: 0.8184\n",
      "Epoch 16/25\n",
      "1875/1875 [==============================] - 9s 5ms/step - loss: 0.4879 - accuracy: 0.8286 - val_loss: 0.5384 - val_accuracy: 0.8203\n",
      "Epoch 17/25\n",
      "1875/1875 [==============================] - 9s 5ms/step - loss: 0.4816 - accuracy: 0.8320 - val_loss: 0.5489 - val_accuracy: 0.8151\n",
      "Epoch 18/25\n",
      "1875/1875 [==============================] - 10s 5ms/step - loss: 0.4829 - accuracy: 0.8317 - val_loss: 0.5379 - val_accuracy: 0.8162\n",
      "Epoch 19/25\n",
      "1875/1875 [==============================] - 10s 5ms/step - loss: 0.4821 - accuracy: 0.8299 - val_loss: 0.5362 - val_accuracy: 0.8185\n",
      "Epoch 20/25\n",
      "1875/1875 [==============================] - 10s 5ms/step - loss: 0.4804 - accuracy: 0.8308 - val_loss: 0.5395 - val_accuracy: 0.8179\n",
      "Epoch 21/25\n",
      "1875/1875 [==============================] - 10s 5ms/step - loss: 0.4786 - accuracy: 0.8324 - val_loss: 0.5589 - val_accuracy: 0.8126\n",
      "Epoch 22/25\n",
      "1875/1875 [==============================] - 10s 5ms/step - loss: 0.4759 - accuracy: 0.8334 - val_loss: 0.5324 - val_accuracy: 0.8214\n",
      "Epoch 23/25\n",
      "1875/1875 [==============================] - 10s 5ms/step - loss: 0.4772 - accuracy: 0.8331 - val_loss: 0.5463 - val_accuracy: 0.8179\n",
      "Epoch 24/25\n",
      "1875/1875 [==============================] - 10s 5ms/step - loss: 0.4749 - accuracy: 0.8346 - val_loss: 0.5558 - val_accuracy: 0.8141\n",
      "Epoch 25/25\n",
      "1875/1875 [==============================] - 10s 5ms/step - loss: 0.4751 - accuracy: 0.8343 - val_loss: 0.5377 - val_accuracy: 0.8188\n"
     ]
    }
   ],
   "source": [
    "model_4 = tf.keras.Sequential([\n",
    "    tf.keras.layers.Flatten(input_shape=(28,28)),\n",
    "    tf.keras.layers.Dense(4,activation='relu'),\n",
    "    tf.keras.layers.Dense(4,activation='relu'),\n",
    "    tf.keras.layers.Dense(10,activation='softmax')\n",
    "])\n",
    "\n",
    "\n",
    "model_4.compile(loss=tf.keras.losses.SparseCategoricalCrossentropy(), optimizer=tf.keras.optimizers.Adam(lr=perfect_lr.numpy()), metrics=['accuracy'])\n",
    "model_4_hist = model_4.fit(train_data_norm,train_labels,epochs=25,validation_data=(test_data_norm,test_labels))"
   ]
  },
  {
   "cell_type": "code",
   "execution_count": 35,
   "metadata": {},
   "outputs": [
    {
     "name": "stdout",
     "output_type": "stream",
     "text": [
      "Epoch 1/25\n",
      "  22/1875 [..............................] - ETA: 9s - loss: 2.2296 - accuracy: 0.1733"
     ]
    },
    {
     "name": "stderr",
     "output_type": "stream",
     "text": [
      "2022-07-07 16:56:38.977659: I tensorflow/core/grappler/optimizers/custom_graph_optimizer_registry.cc:113] Plugin optimizer for device_type GPU is enabled.\n"
     ]
    },
    {
     "name": "stdout",
     "output_type": "stream",
     "text": [
      "1869/1875 [============================>.] - ETA: 0s - loss: 1.0265 - accuracy: 0.6344"
     ]
    },
    {
     "name": "stderr",
     "output_type": "stream",
     "text": [
      "2022-07-07 16:56:47.644611: I tensorflow/core/grappler/optimizers/custom_graph_optimizer_registry.cc:113] Plugin optimizer for device_type GPU is enabled.\n"
     ]
    },
    {
     "name": "stdout",
     "output_type": "stream",
     "text": [
      "1875/1875 [==============================] - 10s 5ms/step - loss: 1.0258 - accuracy: 0.6347 - val_loss: 0.8088 - val_accuracy: 0.7293\n",
      "Epoch 2/25\n",
      "1875/1875 [==============================] - 10s 5ms/step - loss: 0.7046 - accuracy: 0.7476 - val_loss: 0.6726 - val_accuracy: 0.7654\n",
      "Epoch 3/25\n",
      "1875/1875 [==============================] - 10s 5ms/step - loss: 0.6495 - accuracy: 0.7675 - val_loss: 0.6490 - val_accuracy: 0.7737\n",
      "Epoch 4/25\n",
      "1875/1875 [==============================] - 10s 5ms/step - loss: 0.6294 - accuracy: 0.7732 - val_loss: 0.6451 - val_accuracy: 0.7698\n",
      "Epoch 5/25\n",
      "1875/1875 [==============================] - 10s 5ms/step - loss: 0.6205 - accuracy: 0.7766 - val_loss: 0.6710 - val_accuracy: 0.7586\n",
      "Epoch 6/25\n",
      "1875/1875 [==============================] - 10s 5ms/step - loss: 0.6136 - accuracy: 0.7797 - val_loss: 0.6453 - val_accuracy: 0.7729\n",
      "Epoch 7/25\n",
      "1875/1875 [==============================] - 10s 5ms/step - loss: 0.6042 - accuracy: 0.7818 - val_loss: 0.6322 - val_accuracy: 0.7786\n",
      "Epoch 8/25\n",
      "1875/1875 [==============================] - 10s 5ms/step - loss: 0.5975 - accuracy: 0.7867 - val_loss: 0.6774 - val_accuracy: 0.7722\n",
      "Epoch 9/25\n",
      "1875/1875 [==============================] - 10s 6ms/step - loss: 0.5910 - accuracy: 0.7911 - val_loss: 0.6177 - val_accuracy: 0.7858\n",
      "Epoch 10/25\n",
      "1875/1875 [==============================] - 11s 6ms/step - loss: 0.5831 - accuracy: 0.7959 - val_loss: 0.6471 - val_accuracy: 0.7793\n",
      "Epoch 11/25\n",
      "1875/1875 [==============================] - 10s 5ms/step - loss: 0.5752 - accuracy: 0.8012 - val_loss: 0.6306 - val_accuracy: 0.7837\n",
      "Epoch 12/25\n",
      "1875/1875 [==============================] - 10s 5ms/step - loss: 0.5713 - accuracy: 0.8023 - val_loss: 0.6272 - val_accuracy: 0.7884\n",
      "Epoch 13/25\n",
      "1875/1875 [==============================] - 10s 5ms/step - loss: 0.5674 - accuracy: 0.8043 - val_loss: 0.6158 - val_accuracy: 0.7854\n",
      "Epoch 14/25\n",
      "1875/1875 [==============================] - 10s 5ms/step - loss: 0.5650 - accuracy: 0.8058 - val_loss: 0.6150 - val_accuracy: 0.7905\n",
      "Epoch 15/25\n",
      "1875/1875 [==============================] - 10s 5ms/step - loss: 0.5612 - accuracy: 0.8065 - val_loss: 0.6268 - val_accuracy: 0.7890\n",
      "Epoch 16/25\n",
      "1875/1875 [==============================] - 10s 5ms/step - loss: 0.5601 - accuracy: 0.8060 - val_loss: 0.6099 - val_accuracy: 0.7923\n",
      "Epoch 17/25\n",
      "1875/1875 [==============================] - 10s 5ms/step - loss: 0.5587 - accuracy: 0.8080 - val_loss: 0.6304 - val_accuracy: 0.7889\n",
      "Epoch 18/25\n",
      "1875/1875 [==============================] - 9s 5ms/step - loss: 0.5573 - accuracy: 0.8082 - val_loss: 0.6108 - val_accuracy: 0.7906\n",
      "Epoch 19/25\n",
      "1875/1875 [==============================] - 9s 5ms/step - loss: 0.5578 - accuracy: 0.8085 - val_loss: 0.6398 - val_accuracy: 0.7809\n",
      "Epoch 20/25\n",
      "1875/1875 [==============================] - 9s 5ms/step - loss: 0.5554 - accuracy: 0.8098 - val_loss: 0.6243 - val_accuracy: 0.7889\n",
      "Epoch 21/25\n",
      "1875/1875 [==============================] - 10s 5ms/step - loss: 0.5552 - accuracy: 0.8092 - val_loss: 0.6185 - val_accuracy: 0.7880\n",
      "Epoch 22/25\n",
      "1875/1875 [==============================] - 10s 5ms/step - loss: 0.5520 - accuracy: 0.8102 - val_loss: 0.6105 - val_accuracy: 0.7926\n",
      "Epoch 23/25\n",
      "1875/1875 [==============================] - 10s 5ms/step - loss: 0.5522 - accuracy: 0.8097 - val_loss: 0.6278 - val_accuracy: 0.7878\n",
      "Epoch 24/25\n",
      "1875/1875 [==============================] - 10s 5ms/step - loss: 0.5502 - accuracy: 0.8108 - val_loss: 0.6055 - val_accuracy: 0.7937\n",
      "Epoch 25/25\n",
      "1875/1875 [==============================] - 10s 5ms/step - loss: 0.5487 - accuracy: 0.8137 - val_loss: 0.6135 - val_accuracy: 0.7916\n"
     ]
    }
   ],
   "source": [
    "hard_code_lr_model = tf.keras.Sequential([\n",
    "    tf.keras.layers.Flatten(input_shape=(28,28)),\n",
    "    tf.keras.layers.Dense(4,activation='relu'),\n",
    "    tf.keras.layers.Dense(4,activation='relu'),\n",
    "    tf.keras.layers.Dense(10,activation='softmax')\n",
    "])\n",
    "hard_code_lr_model.compile(loss=tf.keras.losses.SparseCategoricalCrossentropy(), optimizer=tf.keras.optimizers.Adam(lr=0.0025118864315095794), metrics=['accuracy'])\n",
    "hard_code_history = hard_code_lr_model.fit(train_data_norm,train_labels,epochs=25,validation_data=(test_data_norm,test_labels))"
   ]
  },
  {
   "cell_type": "code",
   "execution_count": 36,
   "metadata": {},
   "outputs": [
    {
     "name": "stdout",
     "output_type": "stream",
     "text": [
      "313/313 [==============================] - 1s 4ms/step - loss: 0.6135 - accuracy: 0.7916\n"
     ]
    },
    {
     "data": {
      "text/plain": [
       "[0.6134781837463379, 0.7916000485420227]"
      ]
     },
     "execution_count": 36,
     "metadata": {},
     "output_type": "execute_result"
    }
   ],
   "source": [
    "hard_code_lr_model.evaluate(test_data_norm,test_labels)"
   ]
  },
  {
   "cell_type": "code",
   "execution_count": 62,
   "metadata": {},
   "outputs": [
    {
     "name": "stdout",
     "output_type": "stream",
     "text": [
      "313/313 [==============================] - 1s 2ms/step\n"
     ]
    }
   ],
   "source": [
    "y_pred = hard_code_lr_model.predict(test_data_norm)"
   ]
  },
  {
   "cell_type": "code",
   "execution_count": 125,
   "metadata": {},
   "outputs": [
    {
     "name": "stdout",
     "output_type": "stream",
     "text": [
      "(10000,)\n"
     ]
    },
    {
     "data": {
      "text/plain": [
       "array([[741,  10,  34,  76,   4,   1, 127,   0,   7,   0],\n",
       "       [  7, 941,  20,  28,   0,   0,   0,   2,   2,   0],\n",
       "       [ 22,   6, 777,  11,  74,   1,  99,   1,   9,   0],\n",
       "       [ 49,  23,  26, 788,   6,   2,  97,   2,   7,   0],\n",
       "       [  0,   0, 231,  15, 540,   0, 202,   0,  12,   0],\n",
       "       [  0,   2,   0,   4,   0, 895,   0,  43,  10,  46],\n",
       "       [117,   6, 161,  66,  89,   0, 545,   0,  16,   0],\n",
       "       [  0,   0,   0,   0,   0,  47,   0, 872,   0,  81],\n",
       "       [  0,   5,  23,  18,  40,  18,  11,   6, 879,   0],\n",
       "       [  0,   0,   0,   0,   0,  35,   1,  26,   0, 938]])"
      ]
     },
     "execution_count": 125,
     "metadata": {},
     "output_type": "execute_result"
    }
   ],
   "source": [
    "from sklearn.metrics import confusion_matrix\n",
    "print(test_labels.shape)\n",
    "\n",
    "# convert all the predition probabilities into integers\n",
    "y_preds = y_pred.argmax(axis=1)\n",
    "\n",
    "cf_matrix = confusion_matrix(y_true=test_labels, y_pred=y_preds)\n",
    "cf_matrix"
   ]
  },
  {
   "cell_type": "code",
   "execution_count": 137,
   "metadata": {},
   "outputs": [
    {
     "data": {
      "text/plain": [
       "<AxesSubplot:title={'center':'Heat Map'}>"
      ]
     },
     "execution_count": 137,
     "metadata": {},
     "output_type": "execute_result"
    },
    {
     "data": {
      "image/png": "[encoded data removed]",
      "text/plain": [
       "<Figure size 1080x720 with 2 Axes>"
      ]
     },
     "metadata": {
      "needs_background": "light"
     },
     "output_type": "display_data"
    }
   ],
   "source": [
    "fig, ax = plt.subplots(figsize=(15,10))\n",
    "# Add title to the Heat map\n",
    "title = \"Heat Map\"\n",
    "\n",
    "# Set the font size and the distance of the title from the plot\n",
    "plt.title(title,fontsize=18)\n",
    "ttl = ax.title\n",
    "ttl.set_position([0.5,1.05])\n",
    "\n",
    "datasets = pd.DataFrame(cf_matrix/1000,index=classes, columns=classes)\n",
    "sns.heatmap(datasets,ax=ax, cmap=\"coolwarm\",fmt=\".2%\", annot=True)"
   ]
  },
  {
   "cell_type": "markdown",
   "metadata": {},
   "source": [
    "## plt a image to show the model confidence"
   ]
  },
  {
   "cell_type": "code",
   "execution_count": 322,
   "metadata": {},
   "outputs": [],
   "source": [
    "def plt_image_for_test():\n",
    "    import random\n",
    "    plt.figure(figsize=(8,8))\n",
    "    selected = random.randint(0,len(test_data))\n",
    "    actual_label =  classes[test_labels[selected]]\n",
    "    plt.imshow(test_data[selected])\n",
    "    pred_probs = hard_code_lr_model.predict(tf.reshape(test_data[selected],(1,28,28)))\n",
    "    pred_label = classes[pred_probs.argmax(axis=1)[0]]\n",
    "    if actual_label == pred_label:\n",
    "        plt.xlabel(f\"{pred_label} confidence: {pred_probs.max()*100:.2f}%\", c='g')\n",
    "    else:\n",
    "        plt.xlabel(f\"{pred_label} confidence: {pred_probs.max()*100:.2f}% \\n True : {actual_label}\",c='r')"
   ]
  },
  {
   "cell_type": "code",
   "execution_count": 323,
   "metadata": {},
   "outputs": [
    {
     "name": "stdout",
     "output_type": "stream",
     "text": [
      "1/1 [==============================] - 0s 12ms/step\n"
     ]
    },
    {
     "data": {
      "image/png": "[encoded data removed]",
      "text/plain": [
       "<Figure size 576x576 with 1 Axes>"
      ]
     },
     "metadata": {
      "needs_background": "light"
     },
     "output_type": "display_data"
    }
   ],
   "source": [
    "plt_image_for_test()"
   ]
  },
  {
   "cell_type": "markdown",
   "metadata": {},
   "source": [
    "# Creaking the Model"
   ]
  }
 ],
 "metadata": {
  "kernelspec": {
   "display_name": "Python 3.9.0 ('tf')",
   "language": "python",
   "name": "python3"
  },
  "language_info": {
   "codemirror_mode": {
    "name": "ipython",
    "version": 3
   },
   "file_extension": ".py",
   "mimetype": "text/x-python",
   "name": "python",
   "nbconvert_exporter": "python",
   "pygments_lexer": "ipython3",
   "version": "3.9.0"
  },
  "orig_nbformat": 4,
  "vscode": {
   "interpreter": {
    "hash": "dec0d4b5e61cb6d7dd711d1ba4555d59e1101b9dac5b804a761a053024f56894"
   }
  }
 },
 "nbformat": 4,
 "nbformat_minor": 2
}
