{
 "cells": [
  {
   "cell_type": "code",
   "execution_count": 1,
   "metadata": {},
   "outputs": [],
   "source": [
    "# import all library\n",
    "import tensorflow as tf\n",
    "import pandas as pd \n",
    "import seaborn as sns\n",
    "import matplotlib.pyplot as plt\n",
    "import gzip\n",
    "import numpy as np"
   ]
  },
  {
   "cell_type": "markdown",
   "metadata": {},
   "source": [
    "# Preparing for the datasets\n"
   ]
  },
  {
   "cell_type": "markdown",
   "metadata": {},
   "source": [
    "## Open the file first and visualize the data"
   ]
  },
  {
   "cell_type": "code",
   "execution_count": 3,
   "metadata": {},
   "outputs": [],
   "source": [
    "from mnist import MNIST\n",
    "\n",
    "mndata = MNIST(path='dataset',gz=True)\n",
    "train_img, train_labels = mndata.load_training()\n",
    "test_img, test_lables = mndata.load_testing()"
   ]
  },
  {
   "cell_type": "markdown",
   "metadata": {},
   "source": [
    "### Reshape the imgs -> (6000,28,28)"
   ]
  },
  {
   "cell_type": "code",
   "execution_count": 4,
   "metadata": {},
   "outputs": [
    {
     "data": {
      "text/plain": [
       "784"
      ]
     },
     "execution_count": 4,
     "metadata": {},
     "output_type": "execute_result"
    }
   ],
   "source": [
    "len(train_img[0])"
   ]
  },
  {
   "cell_type": "code",
   "execution_count": 5,
   "metadata": {},
   "outputs": [
    {
     "data": {
      "text/plain": [
       "60000"
      ]
     },
     "execution_count": 5,
     "metadata": {},
     "output_type": "execute_result"
    }
   ],
   "source": [
    "len(train_labels)"
   ]
  },
  {
   "cell_type": "code",
   "execution_count": 13,
   "metadata": {},
   "outputs": [
    {
     "data": {
      "text/plain": [
       "<tf.Tensor: shape=(28, 28), dtype=int32, numpy=\n",
       "array([[  0,   0,   0,   0,   0,   0,   0,   0,   0,   0,   0,   0,   0,\n",
       "          0,   0,   0,   0,   0,   0,   0,   0,   0,   0,   0,   0,   0,\n",
       "          0,   0],\n",
       "       [  0,   0,   0,   0,   0,   0,   0,   0,   0,   0,   0,   0,   0,\n",
       "          0,   0,   0,   0,   0,   0,   0,   0,   0,   0,   0,   0,   0,\n",
       "          0,   0],\n",
       "       [  0,   0,   0,   0,   0,   0,   0,   0,   0,   0,   0,   0,   0,\n",
       "          0,   0,   0,   0,   0,   0,   0,   0,   0,   0,   0,   0,   0,\n",
       "          0,   0],\n",
       "       [  0,   0,   0,   0,   0,   0,   0,   0,   0,   0,   0,   0,   0,\n",
       "          0,   0,   0,   0,   0,   0,   0,   0,   0,   0,   0,   0,   0,\n",
       "          0,   0],\n",
       "       [  0,   0,   0,   0,   0,   0,   0,   0,   0,   0,   0,   0,   0,\n",
       "          0,   0,   0,   0,   0,   0,   0,   0,   0,   0,   0,   0,   0,\n",
       "          0,   0],\n",
       "       [  0,   0,   0,   0,   0,   0,   0,   0,   0,   0,   0,   0,   3,\n",
       "         18,  18,  18, 126, 136, 175,  26, 166, 255, 247, 127,   0,   0,\n",
       "          0,   0],\n",
       "       [  0,   0,   0,   0,   0,   0,   0,   0,  30,  36,  94, 154, 170,\n",
       "        253, 253, 253, 253, 253, 225, 172, 253, 242, 195,  64,   0,   0,\n",
       "          0,   0],\n",
       "       [  0,   0,   0,   0,   0,   0,   0,  49, 238, 253, 253, 253, 253,\n",
       "        253, 253, 253, 253, 251,  93,  82,  82,  56,  39,   0,   0,   0,\n",
       "          0,   0],\n",
       "       [  0,   0,   0,   0,   0,   0,   0,  18, 219, 253, 253, 253, 253,\n",
       "        253, 198, 182, 247, 241,   0,   0,   0,   0,   0,   0,   0,   0,\n",
       "          0,   0],\n",
       "       [  0,   0,   0,   0,   0,   0,   0,   0,  80, 156, 107, 253, 253,\n",
       "        205,  11,   0,  43, 154,   0,   0,   0,   0,   0,   0,   0,   0,\n",
       "          0,   0],\n",
       "       [  0,   0,   0,   0,   0,   0,   0,   0,   0,  14,   1, 154, 253,\n",
       "         90,   0,   0,   0,   0,   0,   0,   0,   0,   0,   0,   0,   0,\n",
       "          0,   0],\n",
       "       [  0,   0,   0,   0,   0,   0,   0,   0,   0,   0,   0, 139, 253,\n",
       "        190,   2,   0,   0,   0,   0,   0,   0,   0,   0,   0,   0,   0,\n",
       "          0,   0],\n",
       "       [  0,   0,   0,   0,   0,   0,   0,   0,   0,   0,   0,  11, 190,\n",
       "        253,  70,   0,   0,   0,   0,   0,   0,   0,   0,   0,   0,   0,\n",
       "          0,   0],\n",
       "       [  0,   0,   0,   0,   0,   0,   0,   0,   0,   0,   0,   0,  35,\n",
       "        241, 225, 160, 108,   1,   0,   0,   0,   0,   0,   0,   0,   0,\n",
       "          0,   0],\n",
       "       [  0,   0,   0,   0,   0,   0,   0,   0,   0,   0,   0,   0,   0,\n",
       "         81, 240, 253, 253, 119,  25,   0,   0,   0,   0,   0,   0,   0,\n",
       "          0,   0],\n",
       "       [  0,   0,   0,   0,   0,   0,   0,   0,   0,   0,   0,   0,   0,\n",
       "          0,  45, 186, 253, 253, 150,  27,   0,   0,   0,   0,   0,   0,\n",
       "          0,   0],\n",
       "       [  0,   0,   0,   0,   0,   0,   0,   0,   0,   0,   0,   0,   0,\n",
       "          0,   0,  16,  93, 252, 253, 187,   0,   0,   0,   0,   0,   0,\n",
       "          0,   0],\n",
       "       [  0,   0,   0,   0,   0,   0,   0,   0,   0,   0,   0,   0,   0,\n",
       "          0,   0,   0,   0, 249, 253, 249,  64,   0,   0,   0,   0,   0,\n",
       "          0,   0],\n",
       "       [  0,   0,   0,   0,   0,   0,   0,   0,   0,   0,   0,   0,   0,\n",
       "          0,  46, 130, 183, 253, 253, 207,   2,   0,   0,   0,   0,   0,\n",
       "          0,   0],\n",
       "       [  0,   0,   0,   0,   0,   0,   0,   0,   0,   0,   0,   0,  39,\n",
       "        148, 229, 253, 253, 253, 250, 182,   0,   0,   0,   0,   0,   0,\n",
       "          0,   0],\n",
       "       [  0,   0,   0,   0,   0,   0,   0,   0,   0,   0,  24, 114, 221,\n",
       "        253, 253, 253, 253, 201,  78,   0,   0,   0,   0,   0,   0,   0,\n",
       "          0,   0],\n",
       "       [  0,   0,   0,   0,   0,   0,   0,   0,  23,  66, 213, 253, 253,\n",
       "        253, 253, 198,  81,   2,   0,   0,   0,   0,   0,   0,   0,   0,\n",
       "          0,   0],\n",
       "       [  0,   0,   0,   0,   0,   0,  18, 171, 219, 253, 253, 253, 253,\n",
       "        195,  80,   9,   0,   0,   0,   0,   0,   0,   0,   0,   0,   0,\n",
       "          0,   0],\n",
       "       [  0,   0,   0,   0,  55, 172, 226, 253, 253, 253, 253, 244, 133,\n",
       "         11,   0,   0,   0,   0,   0,   0,   0,   0,   0,   0,   0,   0,\n",
       "          0,   0],\n",
       "       [  0,   0,   0,   0, 136, 253, 253, 253, 212, 135, 132,  16,   0,\n",
       "          0,   0,   0,   0,   0,   0,   0,   0,   0,   0,   0,   0,   0,\n",
       "          0,   0],\n",
       "       [  0,   0,   0,   0,   0,   0,   0,   0,   0,   0,   0,   0,   0,\n",
       "          0,   0,   0,   0,   0,   0,   0,   0,   0,   0,   0,   0,   0,\n",
       "          0,   0],\n",
       "       [  0,   0,   0,   0,   0,   0,   0,   0,   0,   0,   0,   0,   0,\n",
       "          0,   0,   0,   0,   0,   0,   0,   0,   0,   0,   0,   0,   0,\n",
       "          0,   0],\n",
       "       [  0,   0,   0,   0,   0,   0,   0,   0,   0,   0,   0,   0,   0,\n",
       "          0,   0,   0,   0,   0,   0,   0,   0,   0,   0,   0,   0,   0,\n",
       "          0,   0]], dtype=int32)>"
      ]
     },
     "execution_count": 13,
     "metadata": {},
     "output_type": "execute_result"
    }
   ],
   "source": [
    "train_img[0]"
   ]
  },
  {
   "cell_type": "code",
   "execution_count": 12,
   "metadata": {},
   "outputs": [
    {
     "data": {
      "text/plain": [
       "TensorShape([60000, 28, 28])"
      ]
     },
     "execution_count": 12,
     "metadata": {},
     "output_type": "execute_result"
    }
   ],
   "source": [
    "train_img = tf.reshape(train_img,shape=(60000,28,28))\n",
    "train_img.shape"
   ]
  },
  {
   "cell_type": "markdown",
   "metadata": {},
   "source": [
    "### Visualize"
   ]
  },
  {
   "cell_type": "code",
   "execution_count": 15,
   "metadata": {},
   "outputs": [
    {
     "data": {
      "text/plain": [
       "<matplotlib.image.AxesImage at 0x28c014cd0>"
      ]
     },
     "execution_count": 15,
     "metadata": {},
     "output_type": "execute_result"
    },
    {
     "data": {
      "image/png": "[encoded data removed]",
      "text/plain": [
       "<Figure size 432x288 with 1 Axes>"
      ]
     },
     "metadata": {
      "needs_background": "light"
     },
     "output_type": "display_data"
    }
   ],
   "source": [
    "plt.imshow(train_img[10])"
   ]
  },
  {
   "cell_type": "markdown",
   "metadata": {},
   "source": [
    "### Reshape All training and testing data"
   ]
  },
  {
   "cell_type": "code",
   "execution_count": 19,
   "metadata": {},
   "outputs": [
    {
     "data": {
      "text/plain": [
       "10000"
      ]
     },
     "execution_count": 19,
     "metadata": {},
     "output_type": "execute_result"
    }
   ],
   "source": [
    "len(test_img)"
   ]
  },
  {
   "cell_type": "code",
   "execution_count": 20,
   "metadata": {},
   "outputs": [],
   "source": [
    "test_img = tf.reshape(test_img, shape=(10000,28,28))\n",
    "train_labels = tf.reshape(train_labels,shape=(60000))\n",
    "test_lables = tf.reshape(test_lables,shape=(10000))"
   ]
  },
  {
   "cell_type": "code",
   "execution_count": 21,
   "metadata": {},
   "outputs": [
    {
     "data": {
      "text/plain": [
       "(TensorShape([10000, 28, 28]), TensorShape([60000, 28, 28]))"
      ]
     },
     "execution_count": 21,
     "metadata": {},
     "output_type": "execute_result"
    }
   ],
   "source": [
    "test_img.shape , train_img.shape"
   ]
  },
  {
   "cell_type": "markdown",
   "metadata": {},
   "source": [
    "### Change the data type of test and  train data"
   ]
  },
  {
   "cell_type": "code",
   "execution_count": 22,
   "metadata": {},
   "outputs": [],
   "source": [
    "train_img = tf.cast(train_img,dtype=tf.float32)\n",
    "train_labels = tf.cast(train_labels,dtype=tf.float32)\n",
    "\n",
    "test_img = tf.cast(test_img,dtype=tf.float32)\n",
    "test_lables = tf.cast(test_lables,dtype=tf.float32)"
   ]
  },
  {
   "cell_type": "code",
   "execution_count": 23,
   "metadata": {},
   "outputs": [
    {
     "data": {
      "text/plain": [
       "(tf.float32, tf.float32)"
      ]
     },
     "execution_count": 23,
     "metadata": {},
     "output_type": "execute_result"
    }
   ],
   "source": [
    "test_img.dtype, train_img.dtype"
   ]
  },
  {
   "cell_type": "markdown",
   "metadata": {},
   "source": [
    "# Let's build the first model!"
   ]
  },
  {
   "cell_type": "code",
   "execution_count": 26,
   "metadata": {},
   "outputs": [
    {
     "name": "stdout",
     "output_type": "stream",
     "text": [
      "Epoch 1/10\n",
      "  24/1875 [..............................] - ETA: 8s - loss: 11.9117 - accuracy: 0.0885 "
     ]
    },
    {
     "name": "stderr",
     "output_type": "stream",
     "text": [
      "2022-07-08 14:49:39.620599: I tensorflow/core/grappler/optimizers/custom_graph_optimizer_registry.cc:113] Plugin optimizer for device_type GPU is enabled.\n"
     ]
    },
    {
     "name": "stdout",
     "output_type": "stream",
     "text": [
      "1875/1875 [==============================] - 9s 4ms/step - loss: 2.2920 - accuracy: 0.1627\n",
      "Epoch 2/10\n",
      "1875/1875 [==============================] - 8s 4ms/step - loss: 1.9817 - accuracy: 0.2276\n",
      "Epoch 3/10\n",
      "1875/1875 [==============================] - 8s 4ms/step - loss: 1.8050 - accuracy: 0.2887\n",
      "Epoch 4/10\n",
      "1875/1875 [==============================] - 8s 4ms/step - loss: 1.6158 - accuracy: 0.3275\n",
      "Epoch 5/10\n",
      "1875/1875 [==============================] - 8s 4ms/step - loss: 1.5363 - accuracy: 0.3556\n",
      "Epoch 6/10\n",
      "1875/1875 [==============================] - 8s 4ms/step - loss: 1.3313 - accuracy: 0.5104\n",
      "Epoch 7/10\n",
      "1875/1875 [==============================] - 8s 4ms/step - loss: 1.0794 - accuracy: 0.6375\n",
      "Epoch 8/10\n",
      "1875/1875 [==============================] - 8s 4ms/step - loss: 0.9267 - accuracy: 0.7074\n",
      "Epoch 9/10\n",
      "1875/1875 [==============================] - 8s 4ms/step - loss: 0.8563 - accuracy: 0.7379\n",
      "Epoch 10/10\n",
      "1875/1875 [==============================] - 8s 4ms/step - loss: 0.8255 - accuracy: 0.7520\n"
     ]
    }
   ],
   "source": [
    "model1_no_norm = tf.keras.Sequential([\n",
    "    tf.keras.layers.Flatten(input_shape=(28,28)),\n",
    "    tf.keras.layers.Dense(5, activation='relu'),\n",
    "    tf.keras.layers.Dense(5, activation='relu'),\n",
    "    tf.keras.layers.Dense(10,activation='softmax')\n",
    "])\n",
    "\n",
    "model1_no_norm.compile(\n",
    "    loss=tf.keras.losses.SparseCategoricalCrossentropy(),\n",
    "    optimizer=tf.keras.optimizers.Adam(),\n",
    "    metrics=['accuracy']\n",
    ")\n",
    "history_model1 = model1_no_norm.fit(train_img,train_labels,epochs=10)"
   ]
  },
  {
   "cell_type": "markdown",
   "metadata": {},
   "source": [
    "# Our model is over 0.75 of the accuracy but we have not adopt the feature scaling"
   ]
  },
  {
   "cell_type": "code",
   "execution_count": 30,
   "metadata": {},
   "outputs": [
    {
     "data": {
      "text/plain": [
       "(0.0, 255.0)"
      ]
     },
     "execution_count": 30,
     "metadata": {},
     "output_type": "execute_result"
    }
   ],
   "source": [
    "np.min(train_img),np.max(train_img)"
   ]
  },
  {
   "cell_type": "code",
   "execution_count": 31,
   "metadata": {},
   "outputs": [],
   "source": [
    "normalized_train = train_img / np.max(train_img)\n",
    "normalized_test  = test_img / np.max(test_img)"
   ]
  },
  {
   "cell_type": "code",
   "execution_count": 35,
   "metadata": {},
   "outputs": [
    {
     "data": {
      "text/plain": [
       "(0.0, 1.0)"
      ]
     },
     "execution_count": 35,
     "metadata": {},
     "output_type": "execute_result"
    }
   ],
   "source": [
    "np.min(normalized_train[0]) , np.max(normalized_train)"
   ]
  },
  {
   "cell_type": "code",
   "execution_count": 37,
   "metadata": {},
   "outputs": [
    {
     "name": "stdout",
     "output_type": "stream",
     "text": [
      "Epoch 1/10\n",
      "  22/1875 [..............................] - ETA: 9s - loss: 2.2928 - accuracy: 0.1151"
     ]
    },
    {
     "name": "stderr",
     "output_type": "stream",
     "text": [
      "2022-07-08 14:59:40.000473: I tensorflow/core/grappler/optimizers/custom_graph_optimizer_registry.cc:113] Plugin optimizer for device_type GPU is enabled.\n"
     ]
    },
    {
     "name": "stdout",
     "output_type": "stream",
     "text": [
      "1875/1875 [==============================] - 9s 5ms/step - loss: 0.9487 - accuracy: 0.7062\n",
      "Epoch 2/10\n",
      "1875/1875 [==============================] - 9s 5ms/step - loss: 0.5357 - accuracy: 0.8539\n",
      "Epoch 3/10\n",
      "1875/1875 [==============================] - 8s 4ms/step - loss: 0.4864 - accuracy: 0.8678\n",
      "Epoch 4/10\n",
      "1875/1875 [==============================] - 8s 4ms/step - loss: 0.4614 - accuracy: 0.8727\n",
      "Epoch 5/10\n",
      "1875/1875 [==============================] - 8s 4ms/step - loss: 0.4459 - accuracy: 0.8769\n",
      "Epoch 6/10\n",
      "1875/1875 [==============================] - 8s 4ms/step - loss: 0.4353 - accuracy: 0.8798\n",
      "Epoch 7/10\n",
      "1875/1875 [==============================] - 8s 4ms/step - loss: 0.4249 - accuracy: 0.8822\n",
      "Epoch 8/10\n",
      "1875/1875 [==============================] - 8s 4ms/step - loss: 0.4183 - accuracy: 0.8837\n",
      "Epoch 9/10\n",
      "1875/1875 [==============================] - 8s 4ms/step - loss: 0.4125 - accuracy: 0.8848\n",
      "Epoch 10/10\n",
      "1875/1875 [==============================] - 8s 4ms/step - loss: 0.4067 - accuracy: 0.8862\n"
     ]
    }
   ],
   "source": [
    "model2_with_norm = tf.keras.Sequential([\n",
    "    tf.keras.layers.Flatten(input_shape=(28,28)),\n",
    "    tf.keras.layers.Dense(5, activation='relu'),\n",
    "    tf.keras.layers.Dense(5, activation='relu'),\n",
    "    tf.keras.layers.Dense(10,activation='softmax')\n",
    "])\n",
    "\n",
    "model2_with_norm.compile(\n",
    "    loss=tf.keras.losses.SparseCategoricalCrossentropy(),\n",
    "    optimizer=tf.keras.optimizers.Adam(),\n",
    "    metrics=['accuracy']\n",
    ")\n",
    "history_model2 = model2_with_norm.fit(normalized_train,train_labels,epochs=10)"
   ]
  },
  {
   "cell_type": "code",
   "execution_count": 40,
   "metadata": {},
   "outputs": [
    {
     "name": "stdout",
     "output_type": "stream",
     "text": [
      "313/313 [==============================] - 1s 4ms/step - loss: 0.4133 - accuracy: 0.8846\n"
     ]
    },
    {
     "data": {
      "text/plain": [
       "[0.41326236724853516, 0.884600043296814]"
      ]
     },
     "execution_count": 40,
     "metadata": {},
     "output_type": "execute_result"
    }
   ],
   "source": [
    "model2_with_norm.evaluate(normalized_test,test_lables)"
   ]
  },
  {
   "cell_type": "code",
   "execution_count": 41,
   "metadata": {},
   "outputs": [
    {
     "data": {
      "text/plain": [
       "<AxesSubplot:>"
      ]
     },
     "execution_count": 41,
     "metadata": {},
     "output_type": "execute_result"
    },
    {
     "data": {
      "image/png": "[encoded data removed]",
      "text/plain": [
       "<Figure size 432x288 with 1 Axes>"
      ]
     },
     "metadata": {
      "needs_background": "light"
     },
     "output_type": "display_data"
    },
    {
     "data": {
      "image/png": "[encoded data removed]",
      "text/plain": [
       "<Figure size 432x288 with 1 Axes>"
      ]
     },
     "metadata": {
      "needs_background": "light"
     },
     "output_type": "display_data"
    }
   ],
   "source": [
    "pd.DataFrame(history_model1.history).plot()\n",
    "pd.DataFrame(history_model2.history).plot()"
   ]
  },
  {
   "cell_type": "markdown",
   "metadata": {},
   "source": [
    "## Try to improve the model with tweaking the learning rate"
   ]
  },
  {
   "cell_type": "code",
   "execution_count": 44,
   "metadata": {},
   "outputs": [
    {
     "name": "stdout",
     "output_type": "stream",
     "text": [
      "Epoch 1/50\n",
      "  22/1875 [..............................] - ETA: 9s - loss: 2.3208 - accuracy: 0.0611"
     ]
    },
    {
     "name": "stderr",
     "output_type": "stream",
     "text": [
      "2022-07-08 15:19:59.856994: I tensorflow/core/grappler/optimizers/custom_graph_optimizer_registry.cc:113] Plugin optimizer for device_type GPU is enabled.\n"
     ]
    },
    {
     "name": "stdout",
     "output_type": "stream",
     "text": [
      "1875/1875 [==============================] - 9s 4ms/step - loss: 2.0078 - accuracy: 0.2626 - lr: 1.0000e-04\n",
      "Epoch 2/50\n",
      "1875/1875 [==============================] - 8s 4ms/step - loss: 1.5007 - accuracy: 0.5286 - lr: 1.1220e-04\n",
      "Epoch 3/50\n",
      "1875/1875 [==============================] - 8s 4ms/step - loss: 1.1423 - accuracy: 0.6742 - lr: 1.2589e-04\n",
      "Epoch 4/50\n",
      "1875/1875 [==============================] - 8s 4ms/step - loss: 0.9184 - accuracy: 0.7287 - lr: 1.4125e-04\n",
      "Epoch 5/50\n",
      "1875/1875 [==============================] - 8s 4ms/step - loss: 0.7722 - accuracy: 0.7730 - lr: 1.5849e-04\n",
      "Epoch 6/50\n",
      "1875/1875 [==============================] - 8s 4ms/step - loss: 0.6728 - accuracy: 0.8097 - lr: 1.7783e-04\n",
      "Epoch 7/50\n",
      "1875/1875 [==============================] - 8s 4ms/step - loss: 0.6053 - accuracy: 0.8315 - lr: 1.9953e-04\n",
      "Epoch 8/50\n",
      "1875/1875 [==============================] - 8s 4ms/step - loss: 0.5625 - accuracy: 0.8440 - lr: 2.2387e-04\n",
      "Epoch 9/50\n",
      "1875/1875 [==============================] - 8s 4ms/step - loss: 0.5326 - accuracy: 0.8523 - lr: 2.5119e-04\n",
      "Epoch 10/50\n",
      "1875/1875 [==============================] - 8s 4ms/step - loss: 0.5105 - accuracy: 0.8585 - lr: 2.8184e-04\n",
      "Epoch 11/50\n",
      "1875/1875 [==============================] - 8s 4ms/step - loss: 0.4934 - accuracy: 0.8627 - lr: 3.1623e-04\n",
      "Epoch 12/50\n",
      "1875/1875 [==============================] - 8s 4ms/step - loss: 0.4798 - accuracy: 0.8673 - lr: 3.5481e-04\n",
      "Epoch 13/50\n",
      "1875/1875 [==============================] - 8s 4ms/step - loss: 0.4681 - accuracy: 0.8704 - lr: 3.9811e-04\n",
      "Epoch 14/50\n",
      "1875/1875 [==============================] - 8s 4ms/step - loss: 0.4572 - accuracy: 0.8731 - lr: 4.4668e-04\n",
      "Epoch 15/50\n",
      "1875/1875 [==============================] - 8s 4ms/step - loss: 0.4495 - accuracy: 0.8741 - lr: 5.0119e-04\n",
      "Epoch 16/50\n",
      "1875/1875 [==============================] - 8s 4ms/step - loss: 0.4423 - accuracy: 0.8760 - lr: 5.6234e-04\n",
      "Epoch 17/50\n",
      "1875/1875 [==============================] - 8s 4ms/step - loss: 0.4355 - accuracy: 0.8775 - lr: 6.3096e-04\n",
      "Epoch 18/50\n",
      "1875/1875 [==============================] - 8s 4ms/step - loss: 0.4294 - accuracy: 0.8792 - lr: 7.0795e-04\n",
      "Epoch 19/50\n",
      "1875/1875 [==============================] - 8s 4ms/step - loss: 0.4244 - accuracy: 0.8807 - lr: 7.9433e-04\n",
      "Epoch 20/50\n",
      "1875/1875 [==============================] - 8s 4ms/step - loss: 0.4193 - accuracy: 0.8814 - lr: 8.9125e-04\n",
      "Epoch 21/50\n",
      "1875/1875 [==============================] - 8s 4ms/step - loss: 0.4140 - accuracy: 0.8832 - lr: 0.0010\n",
      "Epoch 22/50\n",
      "1875/1875 [==============================] - 8s 4ms/step - loss: 0.4096 - accuracy: 0.8827 - lr: 0.0011\n",
      "Epoch 23/50\n",
      "1875/1875 [==============================] - 8s 4ms/step - loss: 0.4046 - accuracy: 0.8846 - lr: 0.0013\n",
      "Epoch 24/50\n",
      "1875/1875 [==============================] - 8s 4ms/step - loss: 0.4020 - accuracy: 0.8857 - lr: 0.0014\n",
      "Epoch 25/50\n",
      "1875/1875 [==============================] - 8s 4ms/step - loss: 0.3971 - accuracy: 0.8859 - lr: 0.0016\n",
      "Epoch 26/50\n",
      "1875/1875 [==============================] - 8s 4ms/step - loss: 0.3961 - accuracy: 0.8869 - lr: 0.0018\n",
      "Epoch 27/50\n",
      "1875/1875 [==============================] - 8s 4ms/step - loss: 0.3948 - accuracy: 0.8862 - lr: 0.0020\n",
      "Epoch 28/50\n",
      "1875/1875 [==============================] - 8s 4ms/step - loss: 0.3921 - accuracy: 0.8874 - lr: 0.0022\n",
      "Epoch 29/50\n",
      "1875/1875 [==============================] - 8s 4ms/step - loss: 0.3920 - accuracy: 0.8872 - lr: 0.0025\n",
      "Epoch 30/50\n",
      "1875/1875 [==============================] - 8s 4ms/step - loss: 0.3909 - accuracy: 0.8877 - lr: 0.0028\n",
      "Epoch 31/50\n",
      "1875/1875 [==============================] - 8s 4ms/step - loss: 0.3918 - accuracy: 0.8875 - lr: 0.0032\n",
      "Epoch 32/50\n",
      "1875/1875 [==============================] - 8s 4ms/step - loss: 0.3924 - accuracy: 0.8860 - lr: 0.0035\n",
      "Epoch 33/50\n",
      "1875/1875 [==============================] - 8s 4ms/step - loss: 0.3921 - accuracy: 0.8866 - lr: 0.0040\n",
      "Epoch 34/50\n",
      "1875/1875 [==============================] - 8s 4ms/step - loss: 0.3917 - accuracy: 0.8861 - lr: 0.0045\n",
      "Epoch 35/50\n",
      "1875/1875 [==============================] - 8s 4ms/step - loss: 0.3939 - accuracy: 0.8854 - lr: 0.0050\n",
      "Epoch 36/50\n",
      "1875/1875 [==============================] - 8s 4ms/step - loss: 0.3957 - accuracy: 0.8839 - lr: 0.0056\n",
      "Epoch 37/50\n",
      "1875/1875 [==============================] - 8s 4ms/step - loss: 0.3978 - accuracy: 0.8837 - lr: 0.0063\n",
      "Epoch 38/50\n",
      "1875/1875 [==============================] - 8s 4ms/step - loss: 0.3991 - accuracy: 0.8829 - lr: 0.0071\n",
      "Epoch 39/50\n",
      "1875/1875 [==============================] - 8s 4ms/step - loss: 0.4012 - accuracy: 0.8817 - lr: 0.0079\n",
      "Epoch 40/50\n",
      "1875/1875 [==============================] - 8s 4ms/step - loss: 0.4076 - accuracy: 0.8802 - lr: 0.0089\n",
      "Epoch 41/50\n",
      "1875/1875 [==============================] - 8s 4ms/step - loss: 0.4066 - accuracy: 0.8802 - lr: 0.0100\n",
      "Epoch 42/50\n",
      "1875/1875 [==============================] - 8s 4ms/step - loss: 0.4131 - accuracy: 0.8794 - lr: 0.0112\n",
      "Epoch 43/50\n",
      "1875/1875 [==============================] - 8s 4ms/step - loss: 0.4155 - accuracy: 0.8800 - lr: 0.0126\n",
      "Epoch 44/50\n",
      "1875/1875 [==============================] - 8s 4ms/step - loss: 0.4235 - accuracy: 0.8756 - lr: 0.0141\n",
      "Epoch 45/50\n",
      "1875/1875 [==============================] - 8s 4ms/step - loss: 0.4290 - accuracy: 0.8759 - lr: 0.0158\n",
      "Epoch 46/50\n",
      "1875/1875 [==============================] - 8s 4ms/step - loss: 0.4429 - accuracy: 0.8710 - lr: 0.0178\n",
      "Epoch 47/50\n",
      "1875/1875 [==============================] - 8s 4ms/step - loss: 0.4606 - accuracy: 0.8681 - lr: 0.0200\n",
      "Epoch 48/50\n",
      "1875/1875 [==============================] - 8s 4ms/step - loss: 0.4771 - accuracy: 0.8647 - lr: 0.0224\n",
      "Epoch 49/50\n",
      "1875/1875 [==============================] - 8s 4ms/step - loss: 0.5007 - accuracy: 0.8590 - lr: 0.0251\n",
      "Epoch 50/50\n",
      "1875/1875 [==============================] - 8s 4ms/step - loss: 0.5200 - accuracy: 0.8541 - lr: 0.0282\n"
     ]
    }
   ],
   "source": [
    "model3 = tf.keras.Sequential([\n",
    "    tf.keras.layers.Flatten(input_shape=(28,28)),\n",
    "    tf.keras.layers.Dense(5, activation='relu'),\n",
    "    tf.keras.layers.Dense(5, activation='relu'),\n",
    "    tf.keras.layers.Dense(10,activation='softmax')\n",
    "])\n",
    "\n",
    "model3.compile(\n",
    "    loss=tf.keras.losses.SparseCategoricalCrossentropy(),\n",
    "    optimizer=tf.keras.optimizers.Adam(),\n",
    "    metrics=['accuracy']\n",
    ")\n",
    "lr_sche = tf.keras.callbacks.LearningRateScheduler(lambda epochs : 1e-4 * 10**(epochs/20))\n",
    "\n",
    "history_model3 = model3.fit(normalized_train,train_labels,epochs=50,callbacks=[lr_sche])"
   ]
  },
  {
   "cell_type": "code",
   "execution_count": 47,
   "metadata": {},
   "outputs": [
    {
     "data": {
      "text/plain": [
       "Text(0, 0.5, 'lr')"
      ]
     },
     "execution_count": 47,
     "metadata": {},
     "output_type": "execute_result"
    },
    {
     "data": {
      "image/png": "[encoded data removed]",
      "text/plain": [
       "<Figure size 432x288 with 1 Axes>"
      ]
     },
     "metadata": {
      "needs_background": "light"
     },
     "output_type": "display_data"
    }
   ],
   "source": [
    "lr = 1e-4* (10**(tf.range(50)/20))\n",
    "graph = plt.semilogx(history_model3.history['loss'],lr)\n",
    "plt.xlabel('losses')\n",
    "plt.ylabel('lr')"
   ]
  },
  {
   "cell_type": "markdown",
   "metadata": {},
   "source": [
    "#### finding the optimized learning rate"
   ]
  },
  {
   "cell_type": "code",
   "execution_count": 49,
   "metadata": {},
   "outputs": [
    {
     "data": {
      "text/plain": [
       "0.0028183829312644535"
      ]
     },
     "execution_count": 49,
     "metadata": {},
     "output_type": "execute_result"
    }
   ],
   "source": [
    "y_values = graph[0].get_ydata()\n",
    "x_values = graph[0].get_xdata()\n",
    "\n",
    "index = np.where(x_values == np.min(history_model3.history['loss']))\n",
    "\n",
    "perfect_lr = y_values[index[0][0]]\n",
    "perfect_lr.numpy()"
   ]
  },
  {
   "cell_type": "markdown",
   "metadata": {},
   "source": [
    "#### Use the optimized learning rate to train the model"
   ]
  },
  {
   "cell_type": "code",
   "execution_count": 50,
   "metadata": {},
   "outputs": [
    {
     "name": "stdout",
     "output_type": "stream",
     "text": [
      "Epoch 1/25\n",
      "  21/1875 [..............................] - ETA: 9s - loss: 2.2841 - accuracy: 0.1265 "
     ]
    },
    {
     "name": "stderr",
     "output_type": "stream",
     "text": [
      "2022-07-08 15:36:20.163069: I tensorflow/core/grappler/optimizers/custom_graph_optimizer_registry.cc:113] Plugin optimizer for device_type GPU is enabled.\n"
     ]
    },
    {
     "name": "stdout",
     "output_type": "stream",
     "text": [
      "1875/1875 [==============================] - 9s 4ms/step - loss: 0.7524 - accuracy: 0.7698\n",
      "Epoch 2/25\n",
      "1875/1875 [==============================] - 8s 5ms/step - loss: 0.4716 - accuracy: 0.8681\n",
      "Epoch 3/25\n",
      "1875/1875 [==============================] - 9s 5ms/step - loss: 0.4356 - accuracy: 0.8769\n",
      "Epoch 4/25\n",
      "1875/1875 [==============================] - 8s 4ms/step - loss: 0.4131 - accuracy: 0.8824\n",
      "Epoch 5/25\n",
      "1875/1875 [==============================] - 8s 4ms/step - loss: 0.3989 - accuracy: 0.8856\n",
      "Epoch 6/25\n",
      "1875/1875 [==============================] - 8s 4ms/step - loss: 0.3841 - accuracy: 0.8898\n",
      "Epoch 7/25\n",
      "1875/1875 [==============================] - 8s 4ms/step - loss: 0.3735 - accuracy: 0.8913\n",
      "Epoch 8/25\n",
      "1875/1875 [==============================] - 8s 4ms/step - loss: 0.3668 - accuracy: 0.8934\n",
      "Epoch 9/25\n",
      "1875/1875 [==============================] - 9s 5ms/step - loss: 0.3604 - accuracy: 0.8940\n",
      "Epoch 10/25\n",
      "1875/1875 [==============================] - 8s 4ms/step - loss: 0.3555 - accuracy: 0.8963\n",
      "Epoch 11/25\n",
      "1875/1875 [==============================] - 9s 5ms/step - loss: 0.3518 - accuracy: 0.8974\n",
      "Epoch 12/25\n",
      "1875/1875 [==============================] - 8s 4ms/step - loss: 0.3496 - accuracy: 0.8990\n",
      "Epoch 13/25\n",
      "1875/1875 [==============================] - 8s 5ms/step - loss: 0.3453 - accuracy: 0.8984\n",
      "Epoch 14/25\n",
      "1875/1875 [==============================] - 9s 5ms/step - loss: 0.3439 - accuracy: 0.8997\n",
      "Epoch 15/25\n",
      "1875/1875 [==============================] - 8s 4ms/step - loss: 0.3417 - accuracy: 0.9007\n",
      "Epoch 16/25\n",
      "1875/1875 [==============================] - 9s 5ms/step - loss: 0.3414 - accuracy: 0.9011\n",
      "Epoch 17/25\n",
      "1875/1875 [==============================] - 9s 5ms/step - loss: 0.3399 - accuracy: 0.9011\n",
      "Epoch 18/25\n",
      "1875/1875 [==============================] - 9s 5ms/step - loss: 0.3386 - accuracy: 0.9022\n",
      "Epoch 19/25\n",
      "1875/1875 [==============================] - 9s 5ms/step - loss: 0.3375 - accuracy: 0.9030\n",
      "Epoch 20/25\n",
      "1875/1875 [==============================] - 8s 5ms/step - loss: 0.3361 - accuracy: 0.9032\n",
      "Epoch 21/25\n",
      "1875/1875 [==============================] - 8s 4ms/step - loss: 0.3339 - accuracy: 0.9026\n",
      "Epoch 22/25\n",
      "1875/1875 [==============================] - 8s 4ms/step - loss: 0.3350 - accuracy: 0.9034\n",
      "Epoch 23/25\n",
      "1875/1875 [==============================] - 8s 4ms/step - loss: 0.3338 - accuracy: 0.9035\n",
      "Epoch 24/25\n",
      "1875/1875 [==============================] - 8s 4ms/step - loss: 0.3323 - accuracy: 0.9034\n",
      "Epoch 25/25\n",
      "1875/1875 [==============================] - 8s 4ms/step - loss: 0.3313 - accuracy: 0.9043\n"
     ]
    }
   ],
   "source": [
    "model4 = tf.keras.Sequential([\n",
    "    tf.keras.layers.Flatten(input_shape=(28,28)),\n",
    "    tf.keras.layers.Dense(5, activation='relu'),\n",
    "    tf.keras.layers.Dense(5, activation='relu'),\n",
    "    tf.keras.layers.Dense(10,activation='softmax')\n",
    "])\n",
    "\n",
    "model4.compile(\n",
    "    loss=tf.keras.losses.SparseCategoricalCrossentropy(),\n",
    "    optimizer=tf.keras.optimizers.Adam(learning_rate=0.0028183829312644535),\n",
    "    metrics=['accuracy']\n",
    ")\n",
    "\n",
    "history_model4 = model4.fit(normalized_train,train_labels,epochs=25)"
   ]
  },
  {
   "cell_type": "markdown",
   "metadata": {},
   "source": [
    "# Evaluate our model with confusion matrix"
   ]
  },
  {
   "cell_type": "code",
   "execution_count": 65,
   "metadata": {},
   "outputs": [
    {
     "name": "stdout",
     "output_type": "stream",
     "text": [
      "313/313 [==============================] - 1s 2ms/step\n"
     ]
    }
   ],
   "source": [
    "from sklearn.metrics import confusion_matrix\n",
    "y_prods = model4.predict(test_img)\n",
    "\n",
    "# convert y_prods to integers\n",
    "y_preds = y_prods.argmax(axis=1)\n",
    "cm = confusion_matrix(test_lables, y_preds)"
   ]
  },
  {
   "cell_type": "code",
   "execution_count": 66,
   "metadata": {},
   "outputs": [
    {
     "data": {
      "text/plain": [
       "array([[965,   0,   2,   1,   3,   0,   1,   1,   7,   0],\n",
       "       [  0, 368, 201,   1,   0,   0,   0,   0, 564,   1],\n",
       "       [ 29,   0, 933,   7,   1,   0,   7,   3,  49,   3],\n",
       "       [ 87,   0,  59, 687,   1,   2,   0,   6, 165,   3],\n",
       "       [  9,   0,   4,   0, 402,   0,   9,   4, 154, 400],\n",
       "       [121,   0,   6, 106,   2, 102,  32,   0, 517,   6],\n",
       "       [ 80,   1,  20,   0,   3,   1, 743,   1, 109,   0],\n",
       "       [ 30,   0,  72,   4,   5,   0,   0, 818,  25,  74],\n",
       "       [ 13,   0,   4,   5,   0,   0,   2,   1, 936,  13],\n",
       "       [ 16,   0,   0,   5,   2,   0,   0,   8,  82, 896]])"
      ]
     },
     "execution_count": 66,
     "metadata": {},
     "output_type": "execute_result"
    }
   ],
   "source": [
    "cm"
   ]
  },
  {
   "cell_type": "code",
   "execution_count": 67,
   "metadata": {},
   "outputs": [
    {
     "data": {
      "text/plain": [
       "<AxesSubplot:title={'center':'Heat Map'}>"
      ]
     },
     "execution_count": 67,
     "metadata": {},
     "output_type": "execute_result"
    },
    {
     "data": {
      "image/png": "[encoded data removed]",
      "text/plain": [
       "<Figure size 1080x720 with 2 Axes>"
      ]
     },
     "metadata": {
      "needs_background": "light"
     },
     "output_type": "display_data"
    }
   ],
   "source": [
    "classes = [0,1,2,3,4,5,6,7,8,9]\n",
    "\n",
    "fig, ax = plt.subplots(figsize=(15,10))\n",
    "# Add title to the Heat map\n",
    "title = \"Heat Map\"\n",
    "\n",
    "# Set the font size and the distance of the title from the plot\n",
    "plt.title(title,fontsize=18)\n",
    "ttl = ax.title\n",
    "ttl.set_position([0.5,1.05])\n",
    "\n",
    "datasets = pd.DataFrame(cm/1000,index=classes, columns=classes)\n",
    "sns.heatmap(datasets,ax=ax, cmap=\"cool\",fmt=\".2%\", annot=True)"
   ]
  },
  {
   "cell_type": "code",
   "execution_count": 146,
   "metadata": {},
   "outputs": [
    {
     "name": "stdout",
     "output_type": "stream",
     "text": [
      "1/1 [==============================] - 0s 10ms/step\n"
     ]
    },
    {
     "data": {
      "image/png": "[encoded data removed]",
      "text/plain": [
       "<Figure size 576x576 with 1 Axes>"
      ]
     },
     "metadata": {
      "needs_background": "light"
     },
     "output_type": "display_data"
    }
   ],
   "source": [
    "def plt_image_for_test(model=model4):\n",
    "    import random\n",
    "    plt.figure(figsize=(8,8))\n",
    "    selected = random.randint(0,len(test_img))\n",
    "    actual_label =  classes[tf.cast(test_lables[selected],dtype=tf.int32)]\n",
    "    plt.imshow(test_img[selected])\n",
    "    pred_probs = model.predict(tf.reshape(test_img[selected],(1,28,28)))\n",
    "    pred_label = classes[pred_probs.argmax(axis=1)[0]]\n",
    "    if actual_label == pred_label:\n",
    "        plt.xlabel(f\"{pred_label} confidence: {pred_probs.max()*100:.2f}%\", c='g')\n",
    "    else:\n",
    "        plt.xlabel(f\"{pred_label} confidence: {pred_probs.max()*100:.2f}% \\n True : {actual_label}\",c='r')\n",
    "plt_image_for_test()"
   ]
  },
  {
   "cell_type": "markdown",
   "metadata": {},
   "source": [
    "# Try to increase the neurons by increasing the accuracy"
   ]
  },
  {
   "cell_type": "code",
   "execution_count": 136,
   "metadata": {},
   "outputs": [
    {
     "name": "stdout",
     "output_type": "stream",
     "text": [
      "Epoch 1/25\n"
     ]
    },
    {
     "name": "stderr",
     "output_type": "stream",
     "text": [
      "2022-07-08 16:21:27.597701: I tensorflow/core/grappler/optimizers/custom_graph_optimizer_registry.cc:113] Plugin optimizer for device_type GPU is enabled.\n"
     ]
    },
    {
     "name": "stdout",
     "output_type": "stream",
     "text": [
      "1875/1875 [==============================] - 9s 4ms/step - loss: 0.2086 - accuracy: 0.9363\n",
      "Epoch 2/25\n",
      "1875/1875 [==============================] - 9s 5ms/step - loss: 0.1033 - accuracy: 0.9683\n",
      "Epoch 3/25\n",
      "1875/1875 [==============================] - 9s 5ms/step - loss: 0.0836 - accuracy: 0.9744\n",
      "Epoch 4/25\n",
      "1875/1875 [==============================] - 9s 5ms/step - loss: 0.0660 - accuracy: 0.9805\n",
      "Epoch 5/25\n",
      "1875/1875 [==============================] - 9s 5ms/step - loss: 0.0578 - accuracy: 0.9828\n",
      "Epoch 6/25\n",
      "1875/1875 [==============================] - 9s 5ms/step - loss: 0.0545 - accuracy: 0.9833\n",
      "Epoch 7/25\n",
      "1875/1875 [==============================] - 8s 4ms/step - loss: 0.0457 - accuracy: 0.9856\n",
      "Epoch 8/25\n",
      "1875/1875 [==============================] - 8s 4ms/step - loss: 0.0429 - accuracy: 0.9875\n",
      "Epoch 9/25\n",
      "1875/1875 [==============================] - 8s 5ms/step - loss: 0.0422 - accuracy: 0.9877\n",
      "Epoch 10/25\n",
      "1875/1875 [==============================] - 9s 5ms/step - loss: 0.0408 - accuracy: 0.9878\n",
      "Epoch 11/25\n",
      "1875/1875 [==============================] - 9s 5ms/step - loss: 0.0345 - accuracy: 0.9897\n",
      "Epoch 12/25\n",
      "1875/1875 [==============================] - 8s 4ms/step - loss: 0.0317 - accuracy: 0.9905\n",
      "Epoch 13/25\n",
      "1875/1875 [==============================] - 8s 4ms/step - loss: 0.0367 - accuracy: 0.9896\n",
      "Epoch 14/25\n",
      "1875/1875 [==============================] - 8s 4ms/step - loss: 0.0316 - accuracy: 0.9917\n",
      "Epoch 15/25\n",
      "1875/1875 [==============================] - 8s 4ms/step - loss: 0.0277 - accuracy: 0.9921\n",
      "Epoch 16/25\n",
      "1875/1875 [==============================] - 8s 4ms/step - loss: 0.0313 - accuracy: 0.9922\n",
      "Epoch 17/25\n",
      "1875/1875 [==============================] - 8s 4ms/step - loss: 0.0274 - accuracy: 0.9929\n",
      "Epoch 18/25\n",
      "1875/1875 [==============================] - 8s 4ms/step - loss: 0.0328 - accuracy: 0.9918\n",
      "Epoch 19/25\n",
      "1875/1875 [==============================] - 9s 5ms/step - loss: 0.0305 - accuracy: 0.9924\n",
      "Epoch 20/25\n",
      "1875/1875 [==============================] - 8s 5ms/step - loss: 0.0244 - accuracy: 0.9936\n",
      "Epoch 21/25\n",
      "1875/1875 [==============================] - 8s 4ms/step - loss: 0.0287 - accuracy: 0.9929\n",
      "Epoch 22/25\n",
      "1875/1875 [==============================] - 8s 4ms/step - loss: 0.0279 - accuracy: 0.9934\n",
      "Epoch 23/25\n",
      "1875/1875 [==============================] - 8s 4ms/step - loss: 0.0256 - accuracy: 0.9944\n",
      "Epoch 24/25\n",
      "1875/1875 [==============================] - 8s 4ms/step - loss: 0.0304 - accuracy: 0.9938\n",
      "Epoch 25/25\n",
      "1875/1875 [==============================] - 8s 4ms/step - loss: 0.0280 - accuracy: 0.9940\n"
     ]
    }
   ],
   "source": [
    "model5 = tf.keras.Sequential([\n",
    "    tf.keras.layers.Flatten(input_shape=(28,28)),\n",
    "    tf.keras.layers.Dense(128, activation='relu'),\n",
    "    tf.keras.layers.Dense(128, activation='relu'),\n",
    "    tf.keras.layers.Dense(10,activation='softmax')\n",
    "])\n",
    "\n",
    "model5.compile(\n",
    "    loss=tf.keras.losses.SparseCategoricalCrossentropy(),\n",
    "    optimizer=tf.keras.optimizers.Adam(learning_rate=0.0028183829312644535),\n",
    "    metrics=['accuracy']\n",
    ")\n",
    "\n",
    "history_model5 = model5.fit(normalized_train,train_labels,epochs=25)"
   ]
  },
  {
   "cell_type": "markdown",
   "metadata": {},
   "source": [
    "## Evaluate the 128 neurons Model"
   ]
  },
  {
   "cell_type": "markdown",
   "metadata": {},
   "source": [
    "### visualize the history of the Model"
   ]
  },
  {
   "cell_type": "code",
   "execution_count": 138,
   "metadata": {},
   "outputs": [
    {
     "data": {
      "text/plain": [
       "<AxesSubplot:title={'center':'accuracy vs losses'}>"
      ]
     },
     "execution_count": 138,
     "metadata": {},
     "output_type": "execute_result"
    },
    {
     "data": {
      "image/png": "[encoded data removed]",
      "text/plain": [
       "<Figure size 432x288 with 1 Axes>"
      ]
     },
     "metadata": {
      "needs_background": "light"
     },
     "output_type": "display_data"
    }
   ],
   "source": [
    "pd.DataFrame(history_model5.history).plot(title=\"accuracy vs losses\")"
   ]
  },
  {
   "cell_type": "markdown",
   "metadata": {},
   "source": [
    "### Visualize the Confusion Metrix"
   ]
  },
  {
   "cell_type": "code",
   "execution_count": 143,
   "metadata": {},
   "outputs": [
    {
     "name": "stdout",
     "output_type": "stream",
     "text": [
      "313/313 [==============================] - 1s 2ms/step\n"
     ]
    },
    {
     "data": {
      "text/plain": [
       "<AxesSubplot:title={'center':'Heat Map of Model 5'}>"
      ]
     },
     "execution_count": 143,
     "metadata": {},
     "output_type": "execute_result"
    },
    {
     "data": {
      "image/png": "[encoded data removed]",
      "text/plain": [
       "<Figure size 1080x720 with 2 Axes>"
      ]
     },
     "metadata": {
      "needs_background": "light"
     },
     "output_type": "display_data"
    }
   ],
   "source": [
    "from sklearn.metrics import confusion_matrix\n",
    "y_prods = model5.predict(test_img)\n",
    "y_preds = y_prods.argmax(axis=1)\n",
    "\n",
    "cm = confusion_matrix(test_lables, y_preds)\n",
    "\n",
    "classes = [0,1,2,3,4,5,6,7,8,9]\n",
    "\n",
    "fig, ax = plt.subplots(figsize=(15,10))\n",
    "# Add title to the Heat map\n",
    "title = \"Heat Map of Model 5\"\n",
    "\n",
    "# Set the font size and the distance of the title from the plot\n",
    "plt.title(title,fontsize=18)\n",
    "ttl = ax.title\n",
    "ttl.set_position([0.5,1.05])\n",
    "\n",
    "datasets = pd.DataFrame(cm/1000,index=classes, columns=classes)\n",
    "sns.heatmap(datasets,ax=ax, cmap=\"cool\",fmt=\".2%\", annot=True)"
   ]
  },
  {
   "cell_type": "code",
   "execution_count": 181,
   "metadata": {},
   "outputs": [
    {
     "name": "stdout",
     "output_type": "stream",
     "text": [
      "1/1 [==============================] - 0s 8ms/step\n"
     ]
    },
    {
     "data": {
      "image/png": "[encoded data removed]",
      "text/plain": [
       "<Figure size 576x576 with 1 Axes>"
      ]
     },
     "metadata": {
      "needs_background": "light"
     },
     "output_type": "display_data"
    }
   ],
   "source": [
    "plt_image_for_test(model=model5)"
   ]
  },
  {
   "cell_type": "markdown",
   "metadata": {},
   "source": [
    "# Summary the model and Save it"
   ]
  },
  {
   "cell_type": "code",
   "execution_count": 97,
   "metadata": {},
   "outputs": [
    {
     "name": "stdout",
     "output_type": "stream",
     "text": [
      "Model: \"sequential_8\"\n",
      "_________________________________________________________________\n",
      " Layer (type)                Output Shape              Param #   \n",
      "=================================================================\n",
      " flatten_8 (Flatten)         (None, 784)               0         \n",
      "                                                                 \n",
      " dense_24 (Dense)            (None, 5)                 3925      \n",
      "                                                                 \n",
      " dense_25 (Dense)            (None, 5)                 30        \n",
      "                                                                 \n",
      " dense_26 (Dense)            (None, 10)                60        \n",
      "                                                                 \n",
      "=================================================================\n",
      "Total params: 4,015\n",
      "Trainable params: 4,015\n",
      "Non-trainable params: 0\n",
      "_________________________________________________________________\n"
     ]
    }
   ],
   "source": [
    "model4.summary()"
   ]
  },
  {
   "cell_type": "code",
   "execution_count": 169,
   "metadata": {},
   "outputs": [
    {
     "name": "stdout",
     "output_type": "stream",
     "text": [
      "Model: \"sequential_10\"\n",
      "_________________________________________________________________\n",
      " Layer (type)                Output Shape              Param #   \n",
      "=================================================================\n",
      " flatten_10 (Flatten)        (None, 784)               0         \n",
      "                                                                 \n",
      " dense_30 (Dense)            (None, 128)               100480    \n",
      "                                                                 \n",
      " dense_31 (Dense)            (None, 128)               16512     \n",
      "                                                                 \n",
      " dense_32 (Dense)            (None, 10)                1290      \n",
      "                                                                 \n",
      "=================================================================\n",
      "Total params: 118,282\n",
      "Trainable params: 118,282\n",
      "Non-trainable params: 0\n",
      "_________________________________________________________________\n"
     ]
    }
   ],
   "source": [
    "model5.summary()"
   ]
  },
  {
   "cell_type": "code",
   "execution_count": 170,
   "metadata": {},
   "outputs": [],
   "source": [
    "model5.save('mnist-mode5-99accuracy.h5')"
   ]
  },
  {
   "cell_type": "code",
   "execution_count": 98,
   "metadata": {},
   "outputs": [],
   "source": [
    "model4.save('mnist.h5')"
   ]
  }
 ],
 "metadata": {
  "kernelspec": {
   "display_name": "Python 3.9.0 ('tf')",
   "language": "python",
   "name": "python3"
  },
  "language_info": {
   "codemirror_mode": {
    "name": "ipython",
    "version": 3
   },
   "file_extension": ".py",
   "mimetype": "text/x-python",
   "name": "python",
   "nbconvert_exporter": "python",
   "pygments_lexer": "ipython3",
   "version": "3.9.0"
  },
  "orig_nbformat": 4,
  "vscode": {
   "interpreter": {
    "hash": "dec0d4b5e61cb6d7dd711d1ba4555d59e1101b9dac5b804a761a053024f56894"
   }
  }
 },
 "nbformat": 4,
 "nbformat_minor": 2
}
